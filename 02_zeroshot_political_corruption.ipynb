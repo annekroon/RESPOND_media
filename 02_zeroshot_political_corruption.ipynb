{
 "cells": [
  {
   "cell_type": "markdown",
   "id": "c723068c-f13c-4165-a627-9fa7737c4b6c",
   "metadata": {},
   "source": [
    "# Zero-shot classification of political corruption in multilingual news using BART Model\n",
    "\n",
    "This notebook applies a zero-shot classification technique to analyze textual data and determine whether the content involves political corruption. The classification is performed using the BART model (`facebook/bart-large-mnli`). The notebook processes a dataset of texts, classifying each entry into one of two categories: `political corruption` or `no political corruption`. In addition, we classify whether the article mentions an `identifyable victim`, and `which type of victim`. The results, including predicted labels and confidence scores, are saved into a CSV file for further analysis."
   ]
  },
  {
   "cell_type": "code",
   "execution_count": 3,
   "id": "f3847a86-51f5-410b-a919-f145af43ac49",
   "metadata": {},
   "outputs": [
    {
     "name": "stderr",
     "output_type": "stream",
     "text": [
      "/home/akroon/.local/lib/python3.8/site-packages/tqdm/auto.py:21: TqdmWarning: IProgress not found. Please update jupyter and ipywidgets. See https://ipywidgets.readthedocs.io/en/stable/user_install.html\n",
      "  from .autonotebook import tqdm as notebook_tqdm\n"
     ]
    }
   ],
   "source": [
    "from tqdm import tqdm\n",
    "from transformers import pipeline\n",
    "import pandas as pd\n",
    "import time\n",
    "\n",
    "path_to_news = \"/home/akroon/data/volume_2/RESPONDE/data/data_conbined/\"\n",
    "path_to_RESPOND_data = '/home/akroon/data/volume_2/RESPONDE/'\n",
    "\n",
    "sample_df =  pd.read_csv(f'{path_to_RESPOND_data}translated_sample_df.csv')"
   ]
  },
  {
   "cell_type": "code",
   "execution_count": 4,
   "id": "2b1ca03d-02b7-46aa-a131-e648dfaeeeea",
   "metadata": {},
   "outputs": [
    {
     "name": "stderr",
     "output_type": "stream",
     "text": [
      "Classifying texts: 100%|██████████| 900/900 [20:11<00:00,  1.35s/it]"
     ]
    },
    {
     "name": "stdout",
     "output_type": "stream",
     "text": [
      "                                       combined_text      corruption_label  \\\n",
      "0  \"Нова демокрация\" прекрати партийното членство...  political corruption   \n",
      "1  Съдът намали паричната гаранция на Васил Божко...  political corruption   \n",
      "2  \"Равен мач\" за Зеленски, но всъщност - победа ...  political corruption   \n",
      "3  Трима задържани за измама с евросредства за зе...  political corruption   \n",
      "4  Окончателно: Стайко Стайков ще се лекува под д...  political corruption   \n",
      "\n",
      "   corruption_score  \n",
      "0          0.518439  \n",
      "1          0.603267  \n",
      "2          0.546086  \n",
      "3          0.503022  \n",
      "4          0.689050  \n"
     ]
    },
    {
     "name": "stderr",
     "output_type": "stream",
     "text": [
      "\n"
     ]
    }
   ],
   "source": [
    "\n",
    "# Initialize the zero-shot classification pipeline with a multilingual model\n",
    "classifier = pipeline(\"zero-shot-classification\", model=\"facebook/bart-large-mnli\")\n",
    "\n",
    "# Improved custom prompt with clearer context and definitions\n",
    "prompt = (\n",
    "    \"Analyze the following text to determine if it involves political corruption. \"\n",
    "    \"Political corruption refers to actions by political actors such as politicians, public officials, or political parties \"\n",
    "    \"that undermine democratic processes, distort decision-making, or involve undue influence, bribery, embezzlement, or nepotism. \"\n",
    "    \"This text is about: {}.\"\n",
    ")\n",
    "# Candidate labels\n",
    "candidate_labels = [\"political corruption\", \"no political corruption\"]\n",
    "\n",
    "# Function to classify each text with detailed output\n",
    "def classify_text(row):\n",
    "    result = classifier(\n",
    "        row[\"combined_text\"],\n",
    "        candidate_labels,\n",
    "        hypothesis_template=prompt\n",
    "    )\n",
    "    # Extract the most probable label and its confidence score\n",
    "    label = result[\"labels\"][0]\n",
    "    score = result[\"scores\"][0]\n",
    "    return pd.Series([label, score])\n",
    "\n",
    "tqdm.pandas(desc=\"Classifying texts\")\n",
    "\n",
    "sample_df[[\"corruption_label\", \"corruption_score\"]] = sample_df.progress_apply(classify_text, axis=1)\n",
    "\n",
    "output_path = 'classified_sample_df.csv'\n",
    "sample_df.to_csv(output_path, index=False\n",
    "# Preview results\n",
    "print(sample_df[[\"combined_text\", \"corruption_label\", \"corruption_score\"]].head())"
   ]
  },
  {
   "cell_type": "code",
   "execution_count": null,
   "id": "f5533d47-fe7e-402d-880d-fdbef1b450d3",
   "metadata": {},
   "outputs": [
    {
     "name": "stderr",
     "output_type": "stream",
     "text": [
      "Classifying texts for victim presence and type:  96%|█████████▋| 868/900 [58:48<02:33,  4.80s/it]  "
     ]
    }
   ],
   "source": [
    "general_prompt = (\n",
    "    \"Analyze the following text to determine if it involves identifiable victims of corruption. \"\n",
    "    \"An identifiable victim refers to a specific individual, group, or entity harmed directly by corrupt actions, \"\n",
    "    \"such as embezzlement, bribery, nepotism, or abuse of power. This text involves: {}.\"\n",
    ")\n",
    "\n",
    "victim_type_prompt = (\n",
    "    \"Analyze the following text to identify the type of identifiable victim(s) harmed by corruption. \"\n",
    "    \"Corruption involves harm through bribery, embezzlement, nepotism, abuse of power, or distortion of public services. \"\n",
    "    \"The identifiable victim(s) in this text are best described as: {}.\"\n",
    ")\n",
    "\n",
    "general_labels = [\"Identifiable victims of corruption\", \"No identifiable victims of corruption\"]\n",
    "victim_type_labels = [\"Individual citizens\", \"Specific communities\", \"Organizations or institutions\", \"No identifiable victims\"]\n",
    "\n",
    "# Function to classify each text for victim presence and type\n",
    "def classify_victims(row):\n",
    "    text = row[\"combined_text\"]\n",
    "    \n",
    "    # Step 1: Identify if there are victims\n",
    "    general_result = classifier(text, general_labels, hypothesis_template=general_prompt)\n",
    "    general_label = general_result[\"labels\"][0]  # Most probable label\n",
    "    general_score = general_result[\"scores\"][0]  # Confidence score\n",
    "    \n",
    "    if general_label == \"Identifiable victims of corruption\":\n",
    "        # Step 2: Classify the type of victim\n",
    "        type_result = classifier(text, victim_type_labels, hypothesis_template=victim_type_prompt)\n",
    "        victim_type_label = type_result[\"labels\"][0]\n",
    "        victim_type_score = type_result[\"scores\"][0]\n",
    "    else:\n",
    "        victim_type_label = \"No identifiable victims\"\n",
    "        victim_type_score = 0.0\n",
    "\n",
    "    return pd.Series([general_label, general_score, victim_type_label, victim_type_score])\n",
    "\n",
    "# Apply classification with progress bar\n",
    "tqdm.pandas(desc=\"Classifying texts for victim presence and type\")\n",
    "sample_df[[\"victim_label\", \"victim_score\", \"victim_type\", \"type_score\"]] = sample_df.progress_apply(classify_victims, axis=1)\n",
    "\n",
    "# Save results of victim classification\n",
    "output_path = \"classified_victims_sample_df.csv\"\n",
    "sample_df.to_csv(output_path, index=False)\n",
    "\n",
    "print(sample_df[[\"combined_text\", \"victim_label\", \"victim_type\", \"victim_score\", \"type_score\"]].head())"
   ]
  }
 ],
 "metadata": {
  "kernelspec": {
   "display_name": "Python 3 (ipykernel)",
   "language": "python",
   "name": "python3"
  },
  "language_info": {
   "codemirror_mode": {
    "name": "ipython",
    "version": 3
   },
   "file_extension": ".py",
   "mimetype": "text/x-python",
   "name": "python",
   "nbconvert_exporter": "python",
   "pygments_lexer": "ipython3",
   "version": "3.8.10"
  }
 },
 "nbformat": 4,
 "nbformat_minor": 5
}
