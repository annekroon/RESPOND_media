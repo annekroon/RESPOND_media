{
 "cells": [
  {
   "cell_type": "markdown",
   "id": "e1a94dfa-ddb0-49a8-b360-c3f8f24484f5",
   "metadata": {},
   "source": [
    "# Political Corruption Article Translation and Classification Pipeline\n",
    "\n",
    "This notebook performs a complete pipeline for analyzing political corruption articles:\n",
    "\n",
    "1. **Load and translate** human-annotated news articles from the original language into the target language.\n",
    "2. **Save** the translated dataset   for further use.\n",
    "3. **Classify** the translated\n",
    "4.  articles using a large language model (LLM)-based classifier (`classify_article`), extracting evidence, rationale, confidence scores, and tentative labels.\n",
    "5. **Save** the classification results as both CSV and Excel files for easy sharing and review.\n",
    "6. **Evaluate** the classification performance by comparing the LLM-generated labels against the human-annotated ground truth using a classification report.\n",
    "\n",
    "This workflow streamlines the process from raw human annotations to translated, LLM-annotated, and evaluated datasets ready for analysis or reporting.\n"
   ]
  },
  {
   "cell_type": "code",
   "execution_count": 2,
   "id": "e3321ce7-8862-486d-9962-32aa92bf0b69",
   "metadata": {},
   "outputs": [
    {
     "name": "stdout",
     "output_type": "stream",
     "text": [
      "🌍 Starting translation for multilingual dataset using 'combined_text'\n"
     ]
    },
    {
     "name": "stderr",
     "output_type": "stream",
     "text": [
      "🔁 Translating:   0%|          | 0/201 [00:00<?, ?it/s]"
     ]
    },
    {
     "name": "stdout",
     "output_type": "stream",
     "text": [
      "Translating chunk 1/1 (chars: 1152)\n"
     ]
    },
    {
     "name": "stderr",
     "output_type": "stream",
     "text": [
      "🔁 Translating:   1%|          | 2/201 [00:04<07:58,  2.40s/it]"
     ]
    },
    {
     "name": "stdout",
     "output_type": "stream",
     "text": [
      "Translating chunk 1/1 (chars: 837)\n"
     ]
    },
    {
     "name": "stderr",
     "output_type": "stream",
     "text": [
      "🔁 Translating:   1%|▏         | 3/201 [00:06<07:15,  2.20s/it]"
     ]
    },
    {
     "name": "stdout",
     "output_type": "stream",
     "text": [
      "Translating chunk 1/2 (chars: 1497)\n",
      "⚠️ Suspected untranslated chunk — marking empty\n",
      "❌ Failed to translate chunk 1 properly.\n",
      "Translating chunk 2/2 (chars: 209)\n"
     ]
    },
    {
     "name": "stderr",
     "output_type": "stream",
     "text": [
      "🔁 Translating:   2%|▏         | 4/201 [00:12<11:43,  3.57s/it]"
     ]
    },
    {
     "name": "stdout",
     "output_type": "stream",
     "text": [
      "Translating chunk 1/1 (chars: 1117)\n"
     ]
    },
    {
     "name": "stderr",
     "output_type": "stream",
     "text": [
      "🔁 Translating:   2%|▏         | 5/201 [00:15<10:27,  3.20s/it]"
     ]
    },
    {
     "name": "stdout",
     "output_type": "stream",
     "text": [
      "Translating chunk 1/1 (chars: 802)\n"
     ]
    },
    {
     "name": "stderr",
     "output_type": "stream",
     "text": [
      "🔁 Translating:   3%|▎         | 6/201 [00:17<09:02,  2.78s/it]"
     ]
    },
    {
     "name": "stdout",
     "output_type": "stream",
     "text": [
      "Translating chunk 1/2 (chars: 1444)\n",
      "Translating chunk 2/2 (chars: 375)\n"
     ]
    },
    {
     "name": "stderr",
     "output_type": "stream",
     "text": [
      "🔁 Translating:   3%|▎         | 7/201 [00:21<10:27,  3.24s/it]"
     ]
    },
    {
     "name": "stdout",
     "output_type": "stream",
     "text": [
      "Translating chunk 1/2 (chars: 1465)\n",
      "Translating chunk 2/2 (chars: 662)\n"
     ]
    },
    {
     "name": "stderr",
     "output_type": "stream",
     "text": [
      "🔁 Translating:   4%|▍         | 8/201 [00:26<12:20,  3.84s/it]"
     ]
    },
    {
     "name": "stdout",
     "output_type": "stream",
     "text": [
      "Translating chunk 1/2 (chars: 1224)\n",
      "⚠️ Suspected untranslated chunk — marking empty\n",
      "❌ Failed to translate chunk 1 properly.\n",
      "Translating chunk 2/2 (chars: 460)\n"
     ]
    },
    {
     "name": "stderr",
     "output_type": "stream",
     "text": [
      "🔁 Translating:   4%|▍         | 9/201 [00:31<13:41,  4.28s/it]"
     ]
    },
    {
     "name": "stdout",
     "output_type": "stream",
     "text": [
      "Translating chunk 1/2 (chars: 1360)\n",
      "Translating chunk 2/2 (chars: 1080)\n"
     ]
    },
    {
     "name": "stderr",
     "output_type": "stream",
     "text": [
      "🔁 Translating:   5%|▍         | 10/201 [00:37<15:07,  4.75s/it]"
     ]
    },
    {
     "name": "stdout",
     "output_type": "stream",
     "text": [
      "Translating chunk 1/1 (chars: 1206)\n"
     ]
    },
    {
     "name": "stderr",
     "output_type": "stream",
     "text": [
      "🔁 Translating:   5%|▌         | 11/201 [00:40<13:38,  4.31s/it]"
     ]
    },
    {
     "name": "stdout",
     "output_type": "stream",
     "text": [
      "Translating chunk 1/1 (chars: 998)\n"
     ]
    },
    {
     "name": "stderr",
     "output_type": "stream",
     "text": [
      "🔁 Translating:   6%|▌         | 12/201 [00:43<11:53,  3.77s/it]"
     ]
    },
    {
     "name": "stdout",
     "output_type": "stream",
     "text": [
      "Translating chunk 1/3 (chars: 1389)\n",
      "Translating chunk 2/3 (chars: 1202)\n",
      "Translating chunk 3/3 (chars: 612)\n"
     ]
    },
    {
     "name": "stderr",
     "output_type": "stream",
     "text": [
      "🔁 Translating:   6%|▋         | 13/201 [00:51<16:15,  5.19s/it]"
     ]
    },
    {
     "name": "stdout",
     "output_type": "stream",
     "text": [
      "Translating chunk 1/2 (chars: 1282)\n",
      "Translating chunk 2/2 (chars: 653)\n"
     ]
    },
    {
     "name": "stderr",
     "output_type": "stream",
     "text": [
      "🔁 Translating:   7%|▋         | 14/201 [00:55<15:13,  4.88s/it]"
     ]
    },
    {
     "name": "stdout",
     "output_type": "stream",
     "text": [
      "Translating chunk 1/9 (chars: 1145)\n",
      "Translating chunk 2/9 (chars: 1348)\n",
      "Translating chunk 3/9 (chars: 1422)\n",
      "Translating chunk 4/9 (chars: 1131)\n",
      "Translating chunk 5/9 (chars: 1133)\n",
      "Translating chunk 6/9 (chars: 1387)\n",
      "Translating chunk 7/9 (chars: 695)\n",
      "Translating chunk 8/9 (chars: 1137)\n",
      "Translating chunk 9/9 (chars: 655)\n"
     ]
    },
    {
     "name": "stderr",
     "output_type": "stream",
     "text": [
      "🔁 Translating:   7%|▋         | 15/201 [01:20<33:31, 10.81s/it]"
     ]
    },
    {
     "name": "stdout",
     "output_type": "stream",
     "text": [
      "Translating chunk 1/6 (chars: 1473)\n",
      "Translating chunk 2/6 (chars: 1393)\n",
      "Translating chunk 3/6 (chars: 1342)\n",
      "Translating chunk 4/6 (chars: 1498)\n",
      "Translating chunk 5/6 (chars: 1371)\n",
      "Translating chunk 6/6 (chars: 935)\n"
     ]
    },
    {
     "name": "stderr",
     "output_type": "stream",
     "text": [
      "🔁 Translating:   8%|▊         | 16/201 [01:38<39:52, 12.93s/it]"
     ]
    },
    {
     "name": "stdout",
     "output_type": "stream",
     "text": [
      "Translating chunk 1/10 (chars: 1108)\n",
      "Translating chunk 2/10 (chars: 730)\n",
      "Translating chunk 3/10 (chars: 1500)\n",
      "Translating chunk 4/10 (chars: 1273)\n",
      "Translating chunk 5/10 (chars: 1124)\n",
      "Translating chunk 6/10 (chars: 1500)\n",
      "Translating chunk 7/10 (chars: 869)\n",
      "Translating chunk 8/10 (chars: 1500)\n",
      "Translating chunk 9/10 (chars: 744)\n",
      "Translating chunk 10/10 (chars: 1354)\n"
     ]
    },
    {
     "name": "stderr",
     "output_type": "stream",
     "text": [
      "🔁 Translating:   8%|▊         | 17/201 [02:07<54:17, 17.70s/it]"
     ]
    },
    {
     "name": "stdout",
     "output_type": "stream",
     "text": [
      "Translating chunk 1/3 (chars: 1278)\n",
      "Translating chunk 2/3 (chars: 1483)\n",
      "Translating chunk 3/3 (chars: 169)\n"
     ]
    },
    {
     "name": "stderr",
     "output_type": "stream",
     "text": [
      "🔁 Translating:   9%|▉         | 18/201 [02:13<43:48, 14.36s/it]"
     ]
    },
    {
     "name": "stdout",
     "output_type": "stream",
     "text": [
      "Translating chunk 1/1 (chars: 993)\n"
     ]
    },
    {
     "name": "stderr",
     "output_type": "stream",
     "text": [
      "🔁 Translating:   9%|▉         | 19/201 [02:16<32:46, 10.81s/it]"
     ]
    },
    {
     "name": "stdout",
     "output_type": "stream",
     "text": [
      "Translating chunk 1/10 (chars: 1268)\n",
      "Translating chunk 2/10 (chars: 1179)\n",
      "Translating chunk 3/10 (chars: 1400)\n",
      "Translating chunk 4/10 (chars: 1318)\n",
      "Translating chunk 5/10 (chars: 1311)\n",
      "Translating chunk 6/10 (chars: 1454)\n",
      "Translating chunk 7/10 (chars: 1107)\n",
      "Translating chunk 8/10 (chars: 1357)\n",
      "Translating chunk 9/10 (chars: 1476)\n",
      "Translating chunk 10/10 (chars: 232)\n"
     ]
    },
    {
     "name": "stderr",
     "output_type": "stream",
     "text": [
      "🔁 Translating:  10%|▉         | 20/201 [02:45<49:20, 16.36s/it]"
     ]
    },
    {
     "name": "stdout",
     "output_type": "stream",
     "text": [
      "⚠️ Suspected untranslated chunk — marking empty\n",
      "❌ Failed to translate chunk 10 properly.\n",
      "Translating chunk 1/1 (chars: 1116)\n"
     ]
    },
    {
     "name": "stderr",
     "output_type": "stream",
     "text": [
      "🔁 Translating:  10%|█         | 21/201 [02:48<37:20, 12.45s/it]"
     ]
    },
    {
     "name": "stdout",
     "output_type": "stream",
     "text": [
      "Translating chunk 1/2 (chars: 1415)\n",
      "Translating chunk 2/2 (chars: 1185)\n"
     ]
    },
    {
     "name": "stderr",
     "output_type": "stream",
     "text": [
      "🔁 Translating:  11%|█         | 22/201 [02:56<32:56, 11.04s/it]"
     ]
    },
    {
     "name": "stdout",
     "output_type": "stream",
     "text": [
      "Translating chunk 1/2 (chars: 1402)\n",
      "⚠️ Suspected untranslated chunk — marking empty\n",
      "❌ Failed to translate chunk 1 properly.\n",
      "Translating chunk 2/2 (chars: 770)\n"
     ]
    },
    {
     "name": "stderr",
     "output_type": "stream",
     "text": [
      "🔁 Translating:  11%|█▏        | 23/201 [03:03<29:09,  9.83s/it]"
     ]
    },
    {
     "name": "stdout",
     "output_type": "stream",
     "text": [
      "Translating chunk 1/1 (chars: 1485)\n"
     ]
    },
    {
     "name": "stderr",
     "output_type": "stream",
     "text": [
      "🔁 Translating:  12%|█▏        | 24/201 [03:07<24:07,  8.18s/it]"
     ]
    },
    {
     "name": "stdout",
     "output_type": "stream",
     "text": [
      "Translating chunk 1/2 (chars: 1449)\n",
      "Translating chunk 2/2 (chars: 477)\n"
     ]
    },
    {
     "name": "stderr",
     "output_type": "stream",
     "text": [
      "🔁 Translating:  12%|█▏        | 25/201 [03:13<21:36,  7.37s/it]"
     ]
    },
    {
     "name": "stdout",
     "output_type": "stream",
     "text": [
      "Translating chunk 1/2 (chars: 1494)\n",
      "Translating chunk 2/2 (chars: 132)\n"
     ]
    },
    {
     "name": "stderr",
     "output_type": "stream",
     "text": [
      "🔁 Translating:  13%|█▎        | 26/201 [03:19<20:10,  6.92s/it]"
     ]
    },
    {
     "name": "stdout",
     "output_type": "stream",
     "text": [
      "Translating chunk 1/1 (chars: 862)\n"
     ]
    },
    {
     "name": "stderr",
     "output_type": "stream",
     "text": [
      "🔁 Translating:  13%|█▎        | 27/201 [03:21<15:57,  5.51s/it]"
     ]
    },
    {
     "name": "stdout",
     "output_type": "stream",
     "text": [
      "Translating chunk 1/1 (chars: 602)\n"
     ]
    },
    {
     "name": "stderr",
     "output_type": "stream",
     "text": [
      "🔁 Translating:  14%|█▍        | 28/201 [03:23<12:38,  4.38s/it]"
     ]
    },
    {
     "name": "stdout",
     "output_type": "stream",
     "text": [
      "Translating chunk 1/1 (chars: 1145)\n"
     ]
    },
    {
     "name": "stderr",
     "output_type": "stream",
     "text": [
      "🔁 Translating:  14%|█▍        | 29/201 [03:26<11:14,  3.92s/it]"
     ]
    },
    {
     "name": "stdout",
     "output_type": "stream",
     "text": [
      "Translating chunk 1/6 (chars: 1272)\n",
      "Translating chunk 2/6 (chars: 1249)\n",
      "Translating chunk 3/6 (chars: 1214)\n",
      "Translating chunk 4/6 (chars: 1391)\n",
      "Translating chunk 5/6 (chars: 1261)\n",
      "Translating chunk 6/6 (chars: 1353)\n"
     ]
    },
    {
     "name": "stderr",
     "output_type": "stream",
     "text": [
      "🔁 Translating:  15%|█▍        | 30/201 [03:47<26:30,  9.30s/it]"
     ]
    },
    {
     "name": "stdout",
     "output_type": "stream",
     "text": [
      "Translating chunk 1/1 (chars: 1088)\n"
     ]
    },
    {
     "name": "stderr",
     "output_type": "stream",
     "text": [
      "🔁 Translating:  15%|█▌        | 31/201 [03:50<20:46,  7.33s/it]"
     ]
    },
    {
     "name": "stdout",
     "output_type": "stream",
     "text": [
      "Translating chunk 1/4 (chars: 819)\n",
      "Translating chunk 2/4 (chars: 1500)\n",
      "Translating chunk 3/4 (chars: 1240)\n",
      "Translating chunk 4/4 (chars: 891)\n"
     ]
    },
    {
     "name": "stderr",
     "output_type": "stream",
     "text": [
      "🔁 Translating:  16%|█▌        | 32/201 [04:01<23:28,  8.34s/it]"
     ]
    },
    {
     "name": "stdout",
     "output_type": "stream",
     "text": [
      "Translating chunk 1/4 (chars: 1102)\n",
      "Translating chunk 2/4 (chars: 1214)\n",
      "Translating chunk 3/4 (chars: 1498)\n",
      "Translating chunk 4/4 (chars: 498)\n"
     ]
    },
    {
     "name": "stderr",
     "output_type": "stream",
     "text": [
      "🔁 Translating:  16%|█▋        | 33/201 [04:11<24:46,  8.85s/it]"
     ]
    },
    {
     "name": "stdout",
     "output_type": "stream",
     "text": [
      "Translating chunk 1/2 (chars: 1416)\n",
      "Translating chunk 2/2 (chars: 1427)\n"
     ]
    },
    {
     "name": "stderr",
     "output_type": "stream",
     "text": [
      "🔁 Translating:  17%|█▋        | 34/201 [04:18<23:17,  8.37s/it]"
     ]
    },
    {
     "name": "stdout",
     "output_type": "stream",
     "text": [
      "Translating chunk 1/2 (chars: 1444)\n",
      "Translating chunk 2/2 (chars: 458)\n"
     ]
    },
    {
     "name": "stderr",
     "output_type": "stream",
     "text": [
      "🔁 Translating:  17%|█▋        | 35/201 [04:23<19:57,  7.21s/it]"
     ]
    },
    {
     "name": "stdout",
     "output_type": "stream",
     "text": [
      "Translating chunk 1/1 (chars: 1022)\n"
     ]
    },
    {
     "name": "stderr",
     "output_type": "stream",
     "text": [
      "🔁 Translating:  18%|█▊        | 36/201 [04:25<16:00,  5.82s/it]"
     ]
    },
    {
     "name": "stdout",
     "output_type": "stream",
     "text": [
      "Translating chunk 1/2 (chars: 1406)\n",
      "Translating chunk 2/2 (chars: 988)\n"
     ]
    },
    {
     "name": "stderr",
     "output_type": "stream",
     "text": [
      "🔁 Translating:  18%|█▊        | 37/201 [04:31<15:55,  5.82s/it]"
     ]
    },
    {
     "name": "stdout",
     "output_type": "stream",
     "text": [
      "Translating chunk 1/3 (chars: 1268)\n",
      "Translating chunk 2/3 (chars: 1395)\n",
      "Translating chunk 3/3 (chars: 944)\n"
     ]
    },
    {
     "name": "stderr",
     "output_type": "stream",
     "text": [
      "🔁 Translating:  19%|█▉        | 38/201 [04:39<17:43,  6.52s/it]"
     ]
    },
    {
     "name": "stdout",
     "output_type": "stream",
     "text": [
      "Translating chunk 1/5 (chars: 1225)\n",
      "Translating chunk 2/5 (chars: 1474)\n",
      "Translating chunk 3/5 (chars: 1483)\n",
      "Translating chunk 4/5 (chars: 1399)\n",
      "Translating chunk 5/5 (chars: 960)\n"
     ]
    },
    {
     "name": "stderr",
     "output_type": "stream",
     "text": [
      "🔁 Translating:  19%|█▉        | 39/201 [04:55<25:18,  9.37s/it]"
     ]
    },
    {
     "name": "stdout",
     "output_type": "stream",
     "text": [
      "Translating chunk 1/2 (chars: 934)\n",
      "Translating chunk 2/2 (chars: 634)\n"
     ]
    },
    {
     "name": "stderr",
     "output_type": "stream",
     "text": [
      "🔁 Translating:  20%|█▉        | 40/201 [04:59<20:37,  7.69s/it]"
     ]
    },
    {
     "name": "stdout",
     "output_type": "stream",
     "text": [
      "Translating chunk 1/2 (chars: 1235)\n",
      "Translating chunk 2/2 (chars: 575)\n"
     ]
    },
    {
     "name": "stderr",
     "output_type": "stream",
     "text": [
      "🔁 Translating:  20%|██        | 41/201 [05:04<17:55,  6.72s/it]"
     ]
    },
    {
     "name": "stdout",
     "output_type": "stream",
     "text": [
      "Translating chunk 1/1 (chars: 740)\n"
     ]
    },
    {
     "name": "stderr",
     "output_type": "stream",
     "text": [
      "🔁 Translating:  21%|██        | 42/201 [05:05<13:53,  5.24s/it]"
     ]
    },
    {
     "name": "stdout",
     "output_type": "stream",
     "text": [
      "Translating chunk 1/1 (chars: 1175)\n"
     ]
    },
    {
     "name": "stderr",
     "output_type": "stream",
     "text": [
      "🔁 Translating:  21%|██▏       | 43/201 [05:09<12:20,  4.68s/it]"
     ]
    },
    {
     "name": "stdout",
     "output_type": "stream",
     "text": [
      "Translating chunk 1/2 (chars: 1451)\n",
      "Translating chunk 2/2 (chars: 574)\n"
     ]
    },
    {
     "name": "stderr",
     "output_type": "stream",
     "text": [
      "🔁 Translating:  22%|██▏       | 44/201 [05:14<12:48,  4.90s/it]"
     ]
    },
    {
     "name": "stdout",
     "output_type": "stream",
     "text": [
      "Translating chunk 1/2 (chars: 1126)\n",
      "Translating chunk 2/2 (chars: 943)\n"
     ]
    },
    {
     "name": "stderr",
     "output_type": "stream",
     "text": [
      "🔁 Translating:  22%|██▏       | 45/201 [05:19<12:49,  4.93s/it]"
     ]
    },
    {
     "name": "stdout",
     "output_type": "stream",
     "text": [
      "Translating chunk 1/3 (chars: 395)\n",
      "Translating chunk 2/3 (chars: 1344)\n",
      "Translating chunk 3/3 (chars: 451)\n"
     ]
    },
    {
     "name": "stderr",
     "output_type": "stream",
     "text": [
      "🔁 Translating:  23%|██▎       | 46/201 [05:25<13:07,  5.08s/it]"
     ]
    },
    {
     "name": "stdout",
     "output_type": "stream",
     "text": [
      "Translating chunk 1/9 (chars: 1001)\n",
      "Translating chunk 2/9 (chars: 1074)\n",
      "Translating chunk 3/9 (chars: 1016)\n",
      "Translating chunk 4/9 (chars: 1459)\n",
      "Translating chunk 5/9 (chars: 1117)\n",
      "Translating chunk 6/9 (chars: 1397)\n",
      "Translating chunk 7/9 (chars: 1431)\n",
      "Translating chunk 8/9 (chars: 884)\n",
      "Translating chunk 9/9 (chars: 1289)\n"
     ]
    },
    {
     "name": "stderr",
     "output_type": "stream",
     "text": [
      "🔁 Translating:  23%|██▎       | 47/201 [05:51<29:23, 11.45s/it]"
     ]
    },
    {
     "name": "stdout",
     "output_type": "stream",
     "text": [
      "Translating chunk 1/5 (chars: 1478)\n",
      "Translating chunk 2/5 (chars: 1198)\n",
      "Translating chunk 3/5 (chars: 1140)\n",
      "Translating chunk 4/5 (chars: 1167)\n",
      "Translating chunk 5/5 (chars: 1225)\n"
     ]
    },
    {
     "name": "stderr",
     "output_type": "stream",
     "text": [
      "🔁 Translating:  24%|██▍       | 48/201 [06:05<31:23, 12.31s/it]"
     ]
    },
    {
     "name": "stdout",
     "output_type": "stream",
     "text": [
      "Translating chunk 1/7 (chars: 1312)\n",
      "Translating chunk 2/7 (chars: 890)\n",
      "Translating chunk 3/7 (chars: 1437)\n",
      "Translating chunk 4/7 (chars: 1098)\n",
      "Translating chunk 5/7 (chars: 1137)\n",
      "Translating chunk 6/7 (chars: 1052)\n",
      "Translating chunk 7/7 (chars: 1274)\n"
     ]
    },
    {
     "name": "stderr",
     "output_type": "stream",
     "text": [
      "🔁 Translating:  24%|██▍       | 49/201 [06:25<36:35, 14.45s/it]"
     ]
    },
    {
     "name": "stdout",
     "output_type": "stream",
     "text": [
      "Translating chunk 1/1 (chars: 874)\n"
     ]
    },
    {
     "name": "stderr",
     "output_type": "stream",
     "text": [
      "🔁 Translating:  25%|██▍       | 50/201 [06:26<26:49, 10.66s/it]"
     ]
    },
    {
     "name": "stdout",
     "output_type": "stream",
     "text": [
      "Translating chunk 1/1 (chars: 1151)\n"
     ]
    },
    {
     "name": "stderr",
     "output_type": "stream",
     "text": [
      "🔁 Translating:  25%|██▌       | 51/201 [06:29<20:30,  8.20s/it]"
     ]
    },
    {
     "name": "stdout",
     "output_type": "stream",
     "text": [
      "Translating chunk 1/2 (chars: 912)\n",
      "Translating chunk 2/2 (chars: 858)\n"
     ]
    },
    {
     "name": "stderr",
     "output_type": "stream",
     "text": [
      "🔁 Translating:  26%|██▌       | 52/201 [06:33<17:11,  6.92s/it]"
     ]
    },
    {
     "name": "stdout",
     "output_type": "stream",
     "text": [
      "Translating chunk 1/1 (chars: 793)\n"
     ]
    },
    {
     "name": "stderr",
     "output_type": "stream",
     "text": [
      "🔁 Translating:  26%|██▋       | 53/201 [06:35<13:12,  5.35s/it]"
     ]
    },
    {
     "name": "stdout",
     "output_type": "stream",
     "text": [
      "Translating chunk 1/2 (chars: 1079)\n",
      "Translating chunk 2/2 (chars: 435)\n"
     ]
    },
    {
     "name": "stderr",
     "output_type": "stream",
     "text": [
      "🔁 Translating:  27%|██▋       | 54/201 [06:38<11:57,  4.88s/it]"
     ]
    },
    {
     "name": "stdout",
     "output_type": "stream",
     "text": [
      "Translating chunk 1/1 (chars: 595)\n"
     ]
    },
    {
     "name": "stderr",
     "output_type": "stream",
     "text": [
      "🔁 Translating:  27%|██▋       | 55/201 [06:40<09:28,  3.89s/it]"
     ]
    },
    {
     "name": "stdout",
     "output_type": "stream",
     "text": [
      "Translating chunk 1/1 (chars: 1240)\n"
     ]
    },
    {
     "name": "stderr",
     "output_type": "stream",
     "text": [
      "🔁 Translating:  28%|██▊       | 56/201 [06:42<08:27,  3.50s/it]"
     ]
    },
    {
     "name": "stdout",
     "output_type": "stream",
     "text": [
      "Translating chunk 1/1 (chars: 1399)\n"
     ]
    },
    {
     "name": "stderr",
     "output_type": "stream",
     "text": [
      "🔁 Translating:  28%|██▊       | 57/201 [06:46<08:23,  3.49s/it]"
     ]
    },
    {
     "name": "stdout",
     "output_type": "stream",
     "text": [
      "Translating chunk 1/2 (chars: 1450)\n",
      "Translating chunk 2/2 (chars: 669)\n"
     ]
    },
    {
     "name": "stderr",
     "output_type": "stream",
     "text": [
      "🔁 Translating:  29%|██▉       | 58/201 [06:51<09:24,  3.95s/it]"
     ]
    },
    {
     "name": "stdout",
     "output_type": "stream",
     "text": [
      "Translating chunk 1/2 (chars: 1294)\n",
      "Translating chunk 2/2 (chars: 464)\n"
     ]
    },
    {
     "name": "stderr",
     "output_type": "stream",
     "text": [
      "🔁 Translating:  29%|██▉       | 59/201 [06:55<09:14,  3.91s/it]"
     ]
    },
    {
     "name": "stdout",
     "output_type": "stream",
     "text": [
      "Translating chunk 1/4 (chars: 1090)\n",
      "Translating chunk 2/4 (chars: 1174)\n",
      "Translating chunk 3/4 (chars: 1157)\n",
      "Translating chunk 4/4 (chars: 437)\n"
     ]
    },
    {
     "name": "stderr",
     "output_type": "stream",
     "text": [
      "🔁 Translating:  30%|██▉       | 60/201 [07:04<12:45,  5.43s/it]"
     ]
    },
    {
     "name": "stdout",
     "output_type": "stream",
     "text": [
      "Translating chunk 1/1 (chars: 1094)\n"
     ]
    },
    {
     "name": "stderr",
     "output_type": "stream",
     "text": [
      "🔁 Translating:  30%|███       | 61/201 [07:06<10:38,  4.56s/it]"
     ]
    },
    {
     "name": "stdout",
     "output_type": "stream",
     "text": [
      "Translating chunk 1/1 (chars: 616)\n"
     ]
    },
    {
     "name": "stderr",
     "output_type": "stream",
     "text": [
      "🔁 Translating:  31%|███       | 62/201 [07:08<08:33,  3.70s/it]"
     ]
    },
    {
     "name": "stdout",
     "output_type": "stream",
     "text": [
      "Translating chunk 1/1 (chars: 1366)\n"
     ]
    },
    {
     "name": "stderr",
     "output_type": "stream",
     "text": [
      "🔁 Translating:  31%|███▏      | 63/201 [07:11<08:04,  3.51s/it]"
     ]
    },
    {
     "name": "stdout",
     "output_type": "stream",
     "text": [
      "Translating chunk 1/3 (chars: 557)\n",
      "Translating chunk 2/3 (chars: 1499)\n",
      "Translating chunk 3/3 (chars: 379)\n"
     ]
    },
    {
     "name": "stderr",
     "output_type": "stream",
     "text": [
      "🔁 Translating:  32%|███▏      | 64/201 [07:17<09:47,  4.29s/it]"
     ]
    },
    {
     "name": "stdout",
     "output_type": "stream",
     "text": [
      "Translating chunk 1/2 (chars: 1235)\n",
      "Translating chunk 2/2 (chars: 311)\n"
     ]
    },
    {
     "name": "stderr",
     "output_type": "stream",
     "text": [
      "🔁 Translating:  32%|███▏      | 65/201 [07:21<09:43,  4.29s/it]"
     ]
    },
    {
     "name": "stdout",
     "output_type": "stream",
     "text": [
      "Translating chunk 1/3 (chars: 309)\n",
      "Translating chunk 2/3 (chars: 1363)\n",
      "Translating chunk 3/3 (chars: 507)\n"
     ]
    },
    {
     "name": "stderr",
     "output_type": "stream",
     "text": [
      "🔁 Translating:  33%|███▎      | 66/201 [07:26<10:07,  4.50s/it]"
     ]
    },
    {
     "name": "stdout",
     "output_type": "stream",
     "text": [
      "Translating chunk 1/3 (chars: 1329)\n",
      "Translating chunk 2/3 (chars: 1121)\n",
      "Translating chunk 3/3 (chars: 475)\n"
     ]
    },
    {
     "name": "stderr",
     "output_type": "stream",
     "text": [
      "🔁 Translating:  33%|███▎      | 67/201 [07:33<11:40,  5.23s/it]"
     ]
    },
    {
     "name": "stdout",
     "output_type": "stream",
     "text": [
      "Translating chunk 1/2 (chars: 1193)\n",
      "Translating chunk 2/2 (chars: 885)\n"
     ]
    },
    {
     "name": "stderr",
     "output_type": "stream",
     "text": [
      "🔁 Translating:  34%|███▍      | 68/201 [07:37<10:51,  4.90s/it]"
     ]
    },
    {
     "name": "stdout",
     "output_type": "stream",
     "text": [
      "Translating chunk 1/2 (chars: 1377)\n",
      "Translating chunk 2/2 (chars: 405)\n"
     ]
    },
    {
     "name": "stderr",
     "output_type": "stream",
     "text": [
      "🔁 Translating:  34%|███▍      | 69/201 [07:42<10:34,  4.81s/it]"
     ]
    },
    {
     "name": "stdout",
     "output_type": "stream",
     "text": [
      "Translating chunk 1/4 (chars: 672)\n",
      "Translating chunk 2/4 (chars: 1500)\n",
      "Translating chunk 3/4 (chars: 285)\n",
      "Translating chunk 4/4 (chars: 1320)\n"
     ]
    },
    {
     "name": "stderr",
     "output_type": "stream",
     "text": [
      "🔁 Translating:  35%|███▍      | 70/201 [07:51<13:18,  6.09s/it]"
     ]
    },
    {
     "name": "stdout",
     "output_type": "stream",
     "text": [
      "Translating chunk 1/1 (chars: 1225)\n"
     ]
    },
    {
     "name": "stderr",
     "output_type": "stream",
     "text": [
      "🔁 Translating:  35%|███▌      | 71/201 [07:54<11:13,  5.18s/it]"
     ]
    },
    {
     "name": "stdout",
     "output_type": "stream",
     "text": [
      "Translating chunk 1/1 (chars: 1265)\n"
     ]
    },
    {
     "name": "stderr",
     "output_type": "stream",
     "text": [
      "🔁 Translating:  36%|███▌      | 72/201 [07:57<09:51,  4.58s/it]"
     ]
    },
    {
     "name": "stdout",
     "output_type": "stream",
     "text": [
      "Translating chunk 1/3 (chars: 1028)\n",
      "Translating chunk 2/3 (chars: 1283)\n",
      "Translating chunk 3/3 (chars: 476)\n"
     ]
    },
    {
     "name": "stderr",
     "output_type": "stream",
     "text": [
      "🔁 Translating:  36%|███▋      | 73/201 [08:04<10:51,  5.09s/it]"
     ]
    },
    {
     "name": "stdout",
     "output_type": "stream",
     "text": [
      "Translating chunk 1/1 (chars: 1358)\n"
     ]
    },
    {
     "name": "stderr",
     "output_type": "stream",
     "text": [
      "🔁 Translating:  37%|███▋      | 74/201 [08:07<09:29,  4.49s/it]"
     ]
    },
    {
     "name": "stdout",
     "output_type": "stream",
     "text": [
      "Translating chunk 1/1 (chars: 1270)\n"
     ]
    },
    {
     "name": "stderr",
     "output_type": "stream",
     "text": [
      "🔁 Translating:  37%|███▋      | 75/201 [08:10<08:29,  4.05s/it]"
     ]
    },
    {
     "name": "stdout",
     "output_type": "stream",
     "text": [
      "Translating chunk 1/6 (chars: 1092)\n",
      "Translating chunk 2/6 (chars: 846)\n",
      "Translating chunk 3/6 (chars: 976)\n",
      "Translating chunk 4/6 (chars: 1326)\n",
      "Translating chunk 5/6 (chars: 1037)\n",
      "Translating chunk 6/6 (chars: 724)\n"
     ]
    },
    {
     "name": "stderr",
     "output_type": "stream",
     "text": [
      "🔁 Translating:  38%|███▊      | 76/201 [08:24<14:34,  6.99s/it]"
     ]
    },
    {
     "name": "stdout",
     "output_type": "stream",
     "text": [
      "Translating chunk 1/3 (chars: 1426)\n",
      "Translating chunk 2/3 (chars: 1226)\n",
      "Translating chunk 3/3 (chars: 942)\n"
     ]
    },
    {
     "name": "stderr",
     "output_type": "stream",
     "text": [
      "🔁 Translating:  38%|███▊      | 77/201 [08:33<15:40,  7.59s/it]"
     ]
    },
    {
     "name": "stdout",
     "output_type": "stream",
     "text": [
      "Translating chunk 1/3 (chars: 187)\n",
      "Translating chunk 2/3 (chars: 1500)\n",
      "Translating chunk 3/3 (chars: 1182)\n"
     ]
    },
    {
     "name": "stderr",
     "output_type": "stream",
     "text": [
      "🔁 Translating:  39%|███▉      | 78/201 [08:39<14:54,  7.27s/it]"
     ]
    },
    {
     "name": "stdout",
     "output_type": "stream",
     "text": [
      "Translating chunk 1/1 (chars: 961)\n"
     ]
    },
    {
     "name": "stderr",
     "output_type": "stream",
     "text": [
      "🔁 Translating:  39%|███▉      | 79/201 [08:41<11:41,  5.75s/it]"
     ]
    },
    {
     "name": "stdout",
     "output_type": "stream",
     "text": [
      "Translating chunk 1/2 (chars: 1397)\n",
      "Translating chunk 2/2 (chars: 724)\n"
     ]
    },
    {
     "name": "stderr",
     "output_type": "stream",
     "text": [
      "🔁 Translating:  40%|███▉      | 80/201 [08:47<11:42,  5.81s/it]"
     ]
    },
    {
     "name": "stdout",
     "output_type": "stream",
     "text": [
      "Translating chunk 1/1 (chars: 520)\n"
     ]
    },
    {
     "name": "stderr",
     "output_type": "stream",
     "text": [
      "🔁 Translating:  40%|████      | 81/201 [08:49<08:52,  4.44s/it]"
     ]
    },
    {
     "name": "stdout",
     "output_type": "stream",
     "text": [
      "Translating chunk 1/3 (chars: 906)\n",
      "Translating chunk 2/3 (chars: 1294)\n",
      "Translating chunk 3/3 (chars: 273)\n"
     ]
    },
    {
     "name": "stderr",
     "output_type": "stream",
     "text": [
      "🔁 Translating:  41%|████      | 82/201 [08:54<09:34,  4.83s/it]"
     ]
    },
    {
     "name": "stdout",
     "output_type": "stream",
     "text": [
      "Translating chunk 1/1 (chars: 1278)\n"
     ]
    },
    {
     "name": "stderr",
     "output_type": "stream",
     "text": [
      "🔁 Translating:  41%|████▏     | 83/201 [08:57<08:25,  4.29s/it]"
     ]
    },
    {
     "name": "stdout",
     "output_type": "stream",
     "text": [
      "Translating chunk 1/2 (chars: 1416)\n",
      "Translating chunk 2/2 (chars: 1024)\n"
     ]
    },
    {
     "name": "stderr",
     "output_type": "stream",
     "text": [
      "🔁 Translating:  42%|████▏     | 84/201 [09:02<08:49,  4.53s/it]"
     ]
    },
    {
     "name": "stdout",
     "output_type": "stream",
     "text": [
      "Translating chunk 1/3 (chars: 1454)\n",
      "Translating chunk 2/3 (chars: 1455)\n",
      "Translating chunk 3/3 (chars: 986)\n"
     ]
    },
    {
     "name": "stderr",
     "output_type": "stream",
     "text": [
      "🔁 Translating:  42%|████▏     | 85/201 [09:11<11:00,  5.69s/it]"
     ]
    },
    {
     "name": "stdout",
     "output_type": "stream",
     "text": [
      "Translating chunk 1/9 (chars: 1409)\n",
      "Translating chunk 2/9 (chars: 1190)\n",
      "Translating chunk 3/9 (chars: 557)\n",
      "Translating chunk 4/9 (chars: 1188)\n",
      "Translating chunk 5/9 (chars: 482)\n",
      "Translating chunk 6/9 (chars: 1020)\n",
      "Translating chunk 7/9 (chars: 1392)\n",
      "Translating chunk 8/9 (chars: 474)\n",
      "Translating chunk 9/9 (chars: 1294)\n"
     ]
    },
    {
     "name": "stderr",
     "output_type": "stream",
     "text": [
      "🔁 Translating:  43%|████▎     | 86/201 [09:31<19:03,  9.94s/it]"
     ]
    },
    {
     "name": "stdout",
     "output_type": "stream",
     "text": [
      "Translating chunk 1/6 (chars: 1131)\n",
      "Translating chunk 2/6 (chars: 1272)\n",
      "Translating chunk 3/6 (chars: 995)\n",
      "Translating chunk 4/6 (chars: 1297)\n",
      "Translating chunk 5/6 (chars: 1500)\n",
      "Translating chunk 6/6 (chars: 346)\n"
     ]
    },
    {
     "name": "stderr",
     "output_type": "stream",
     "text": [
      "🔁 Translating:  43%|████▎     | 87/201 [09:47<22:17, 11.73s/it]"
     ]
    },
    {
     "name": "stdout",
     "output_type": "stream",
     "text": [
      "Translating chunk 1/5 (chars: 1217)\n",
      "Translating chunk 2/5 (chars: 890)\n",
      "Translating chunk 3/5 (chars: 1499)\n",
      "Translating chunk 4/5 (chars: 939)\n",
      "Translating chunk 5/5 (chars: 911)\n"
     ]
    },
    {
     "name": "stderr",
     "output_type": "stream",
     "text": [
      "🔁 Translating:  44%|████▍     | 88/201 [09:59<22:18, 11.85s/it]"
     ]
    },
    {
     "name": "stdout",
     "output_type": "stream",
     "text": [
      "Translating chunk 1/4 (chars: 799)\n",
      "Translating chunk 2/4 (chars: 1500)\n",
      "Translating chunk 3/4 (chars: 1244)\n",
      "Translating chunk 4/4 (chars: 562)\n"
     ]
    },
    {
     "name": "stderr",
     "output_type": "stream",
     "text": [
      "🔁 Translating:  44%|████▍     | 89/201 [10:08<20:32, 11.00s/it]"
     ]
    },
    {
     "name": "stdout",
     "output_type": "stream",
     "text": [
      "Translating chunk 1/2 (chars: 1314)\n",
      "Translating chunk 2/2 (chars: 1239)\n"
     ]
    },
    {
     "name": "stderr",
     "output_type": "stream",
     "text": [
      "🔁 Translating:  45%|████▍     | 90/201 [10:13<17:24,  9.41s/it]"
     ]
    },
    {
     "name": "stdout",
     "output_type": "stream",
     "text": [
      "Translating chunk 1/1 (chars: 1244)\n"
     ]
    },
    {
     "name": "stderr",
     "output_type": "stream",
     "text": [
      "🔁 Translating:  45%|████▌     | 91/201 [10:16<13:29,  7.36s/it]"
     ]
    },
    {
     "name": "stdout",
     "output_type": "stream",
     "text": [
      "Translating chunk 1/1 (chars: 1292)\n"
     ]
    },
    {
     "name": "stderr",
     "output_type": "stream",
     "text": [
      "🔁 Translating:  46%|████▌     | 92/201 [10:19<10:56,  6.02s/it]"
     ]
    },
    {
     "name": "stdout",
     "output_type": "stream",
     "text": [
      "Translating chunk 1/5 (chars: 1464)\n",
      "Translating chunk 2/5 (chars: 1492)\n",
      "Translating chunk 3/5 (chars: 1107)\n",
      "Translating chunk 4/5 (chars: 1313)\n",
      "Translating chunk 5/5 (chars: 960)\n"
     ]
    },
    {
     "name": "stderr",
     "output_type": "stream",
     "text": [
      "🔁 Translating:  46%|████▋     | 93/201 [10:33<15:14,  8.47s/it]"
     ]
    },
    {
     "name": "stdout",
     "output_type": "stream",
     "text": [
      "Translating chunk 1/4 (chars: 1442)\n",
      "Translating chunk 2/4 (chars: 1312)\n",
      "Translating chunk 3/4 (chars: 1130)\n",
      "Translating chunk 4/4 (chars: 1322)\n"
     ]
    },
    {
     "name": "stderr",
     "output_type": "stream",
     "text": [
      "🔁 Translating:  47%|████▋     | 94/201 [10:44<16:12,  9.09s/it]"
     ]
    },
    {
     "name": "stdout",
     "output_type": "stream",
     "text": [
      "Translating chunk 1/1 (chars: 1082)\n"
     ]
    },
    {
     "name": "stderr",
     "output_type": "stream",
     "text": [
      "🔁 Translating:  47%|████▋     | 95/201 [10:46<12:31,  7.09s/it]"
     ]
    },
    {
     "name": "stdout",
     "output_type": "stream",
     "text": [
      "Translating chunk 1/1 (chars: 1312)\n"
     ]
    },
    {
     "name": "stderr",
     "output_type": "stream",
     "text": [
      "🔁 Translating:  48%|████▊     | 96/201 [10:49<10:16,  5.87s/it]"
     ]
    },
    {
     "name": "stdout",
     "output_type": "stream",
     "text": [
      "Translating chunk 1/11 (chars: 1396)\n",
      "Translating chunk 2/11 (chars: 657)\n",
      "Translating chunk 3/11 (chars: 1232)\n",
      "Translating chunk 4/11 (chars: 1497)\n",
      "Translating chunk 5/11 (chars: 970)\n",
      "Translating chunk 6/11 (chars: 1430)\n",
      "Translating chunk 7/11 (chars: 1359)\n",
      "Translating chunk 8/11 (chars: 1458)\n",
      "Translating chunk 9/11 (chars: 603)\n",
      "Translating chunk 10/11 (chars: 1463)\n",
      "Translating chunk 11/11 (chars: 732)\n"
     ]
    },
    {
     "name": "stderr",
     "output_type": "stream",
     "text": [
      "🔁 Translating:  48%|████▊     | 97/201 [11:20<22:57, 13.24s/it]"
     ]
    },
    {
     "name": "stdout",
     "output_type": "stream",
     "text": [
      "Translating chunk 1/1 (chars: 1305)\n"
     ]
    },
    {
     "name": "stderr",
     "output_type": "stream",
     "text": [
      "🔁 Translating:  49%|████▉     | 98/201 [11:23<17:28, 10.18s/it]"
     ]
    },
    {
     "name": "stdout",
     "output_type": "stream",
     "text": [
      "Translating chunk 1/3 (chars: 1476)\n",
      "Translating chunk 2/3 (chars: 1224)\n",
      "Translating chunk 3/3 (chars: 862)\n"
     ]
    },
    {
     "name": "stderr",
     "output_type": "stream",
     "text": [
      "🔁 Translating:  49%|████▉     | 99/201 [11:32<16:41,  9.82s/it]"
     ]
    },
    {
     "name": "stdout",
     "output_type": "stream",
     "text": [
      "Translating chunk 1/2 (chars: 1145)\n",
      "Translating chunk 2/2 (chars: 989)\n"
     ]
    },
    {
     "name": "stderr",
     "output_type": "stream",
     "text": [
      "🔁 Translating:  50%|████▉     | 100/201 [11:36<13:57,  8.29s/it]"
     ]
    },
    {
     "name": "stdout",
     "output_type": "stream",
     "text": [
      "Translating chunk 1/1 (chars: 1272)\n"
     ]
    },
    {
     "name": "stderr",
     "output_type": "stream",
     "text": [
      "🔁 Translating:  50%|█████     | 101/201 [11:39<11:12,  6.73s/it]"
     ]
    },
    {
     "name": "stdout",
     "output_type": "stream",
     "text": [
      "Translating chunk 1/5 (chars: 1144)\n",
      "Translating chunk 2/5 (chars: 1443)\n",
      "Translating chunk 3/5 (chars: 1452)\n",
      "Translating chunk 4/5 (chars: 1345)\n",
      "Translating chunk 5/5 (chars: 805)\n"
     ]
    },
    {
     "name": "stderr",
     "output_type": "stream",
     "text": [
      "🔁 Translating:  51%|█████     | 102/201 [11:54<14:47,  8.97s/it]"
     ]
    },
    {
     "name": "stdout",
     "output_type": "stream",
     "text": [
      "Translating chunk 1/3 (chars: 1159)\n",
      "Translating chunk 2/3 (chars: 1403)\n",
      "Translating chunk 3/3 (chars: 813)\n"
     ]
    },
    {
     "name": "stderr",
     "output_type": "stream",
     "text": [
      "🔁 Translating:  51%|█████     | 103/201 [12:01<13:57,  8.54s/it]"
     ]
    },
    {
     "name": "stdout",
     "output_type": "stream",
     "text": [
      "Translating chunk 1/3 (chars: 1471)\n",
      "Translating chunk 2/3 (chars: 1242)\n",
      "Translating chunk 3/3 (chars: 1312)\n"
     ]
    },
    {
     "name": "stderr",
     "output_type": "stream",
     "text": [
      "🔁 Translating:  52%|█████▏    | 104/201 [12:11<14:26,  8.93s/it]"
     ]
    },
    {
     "name": "stdout",
     "output_type": "stream",
     "text": [
      "Translating chunk 1/2 (chars: 1182)\n",
      "Translating chunk 2/2 (chars: 482)\n"
     ]
    },
    {
     "name": "stderr",
     "output_type": "stream",
     "text": [
      "🔁 Translating:  52%|█████▏    | 105/201 [12:15<11:59,  7.49s/it]"
     ]
    },
    {
     "name": "stdout",
     "output_type": "stream",
     "text": [
      "Translating chunk 1/2 (chars: 1400)\n",
      "Translating chunk 2/2 (chars: 724)\n"
     ]
    },
    {
     "name": "stderr",
     "output_type": "stream",
     "text": [
      "🔁 Translating:  53%|█████▎    | 106/201 [12:20<10:50,  6.84s/it]"
     ]
    },
    {
     "name": "stdout",
     "output_type": "stream",
     "text": [
      "Translating chunk 1/2 (chars: 1403)\n",
      "Translating chunk 2/2 (chars: 249)\n"
     ]
    },
    {
     "name": "stderr",
     "output_type": "stream",
     "text": [
      "🔁 Translating:  53%|█████▎    | 107/201 [12:23<08:56,  5.71s/it]"
     ]
    },
    {
     "name": "stdout",
     "output_type": "stream",
     "text": [
      "Translating chunk 1/1 (chars: 1487)\n"
     ]
    },
    {
     "name": "stderr",
     "output_type": "stream",
     "text": [
      "🔁 Translating:  54%|█████▎    | 108/201 [12:27<07:37,  4.92s/it]"
     ]
    },
    {
     "name": "stdout",
     "output_type": "stream",
     "text": [
      "Translating chunk 1/2 (chars: 1248)\n",
      "Translating chunk 2/2 (chars: 360)\n"
     ]
    },
    {
     "name": "stderr",
     "output_type": "stream",
     "text": [
      "🔁 Translating:  54%|█████▍    | 109/201 [12:30<07:04,  4.62s/it]"
     ]
    },
    {
     "name": "stdout",
     "output_type": "stream",
     "text": [
      "Translating chunk 1/11 (chars: 1312)\n",
      "Translating chunk 2/11 (chars: 1422)\n",
      "Translating chunk 3/11 (chars: 1259)\n",
      "Translating chunk 4/11 (chars: 665)\n",
      "Translating chunk 5/11 (chars: 1432)\n",
      "Translating chunk 6/11 (chars: 807)\n",
      "Translating chunk 7/11 (chars: 1366)\n",
      "Translating chunk 8/11 (chars: 655)\n",
      "Translating chunk 9/11 (chars: 1036)\n",
      "Translating chunk 10/11 (chars: 1371)\n",
      "Translating chunk 11/11 (chars: 1034)\n"
     ]
    },
    {
     "name": "stderr",
     "output_type": "stream",
     "text": [
      "🔁 Translating:  55%|█████▍    | 110/201 [12:59<17:58, 11.85s/it]"
     ]
    },
    {
     "name": "stdout",
     "output_type": "stream",
     "text": [
      "Translating chunk 1/2 (chars: 1427)\n",
      "Translating chunk 2/2 (chars: 559)\n"
     ]
    },
    {
     "name": "stderr",
     "output_type": "stream",
     "text": [
      "🔁 Translating:  55%|█████▌    | 111/201 [13:04<14:37,  9.75s/it]"
     ]
    },
    {
     "name": "stdout",
     "output_type": "stream",
     "text": [
      "Translating chunk 1/9 (chars: 1255)\n",
      "Translating chunk 2/9 (chars: 1095)\n",
      "Translating chunk 3/9 (chars: 1053)\n",
      "Translating chunk 4/9 (chars: 1301)\n",
      "Translating chunk 5/9 (chars: 1144)\n",
      "Translating chunk 6/9 (chars: 1397)\n",
      "Translating chunk 7/9 (chars: 1236)\n",
      "Translating chunk 8/9 (chars: 870)\n",
      "Translating chunk 9/9 (chars: 1304)\n"
     ]
    },
    {
     "name": "stderr",
     "output_type": "stream",
     "text": [
      "🔁 Translating:  56%|█████▌    | 112/201 [13:29<21:19, 14.38s/it]"
     ]
    },
    {
     "name": "stdout",
     "output_type": "stream",
     "text": [
      "Translating chunk 1/2 (chars: 1319)\n",
      "Translating chunk 2/2 (chars: 250)\n"
     ]
    },
    {
     "name": "stderr",
     "output_type": "stream",
     "text": [
      "🔁 Translating:  56%|█████▌    | 113/201 [13:32<16:03, 10.95s/it]"
     ]
    },
    {
     "name": "stdout",
     "output_type": "stream",
     "text": [
      "Translating chunk 1/1 (chars: 1103)\n"
     ]
    },
    {
     "name": "stderr",
     "output_type": "stream",
     "text": [
      "🔁 Translating:  57%|█████▋    | 114/201 [13:35<12:26,  8.58s/it]"
     ]
    },
    {
     "name": "stdout",
     "output_type": "stream",
     "text": [
      "Translating chunk 1/6 (chars: 1157)\n",
      "Translating chunk 2/6 (chars: 1361)\n",
      "Translating chunk 3/6 (chars: 1221)\n",
      "Translating chunk 4/6 (chars: 1291)\n",
      "Translating chunk 5/6 (chars: 1353)\n",
      "Translating chunk 6/6 (chars: 457)\n"
     ]
    },
    {
     "name": "stderr",
     "output_type": "stream",
     "text": [
      "🔁 Translating:  57%|█████▋    | 115/201 [13:49<14:32, 10.15s/it]"
     ]
    },
    {
     "name": "stdout",
     "output_type": "stream",
     "text": [
      "Translating chunk 1/2 (chars: 1459)\n",
      "Translating chunk 2/2 (chars: 264)\n"
     ]
    },
    {
     "name": "stderr",
     "output_type": "stream",
     "text": [
      "🔁 Translating:  58%|█████▊    | 116/201 [13:53<11:52,  8.38s/it]"
     ]
    },
    {
     "name": "stdout",
     "output_type": "stream",
     "text": [
      "Translating chunk 1/2 (chars: 1479)\n",
      "Translating chunk 2/2 (chars: 162)\n"
     ]
    },
    {
     "name": "stderr",
     "output_type": "stream",
     "text": [
      "🔁 Translating:  58%|█████▊    | 117/201 [13:57<09:59,  7.13s/it]"
     ]
    },
    {
     "name": "stdout",
     "output_type": "stream",
     "text": [
      "Translating chunk 1/8 (chars: 1261)\n",
      "Translating chunk 2/8 (chars: 1168)\n",
      "Translating chunk 3/8 (chars: 1296)\n",
      "Translating chunk 4/8 (chars: 1403)\n",
      "Translating chunk 5/8 (chars: 1147)\n",
      "Translating chunk 6/8 (chars: 1020)\n",
      "Translating chunk 7/8 (chars: 1497)\n",
      "Translating chunk 8/8 (chars: 383)\n"
     ]
    },
    {
     "name": "stderr",
     "output_type": "stream",
     "text": [
      "🔁 Translating:  59%|█████▊    | 118/201 [14:17<14:50, 10.73s/it]"
     ]
    },
    {
     "name": "stdout",
     "output_type": "stream",
     "text": [
      "Translating chunk 1/3 (chars: 972)\n",
      "Translating chunk 2/3 (chars: 1228)\n",
      "Translating chunk 3/3 (chars: 1203)\n"
     ]
    },
    {
     "name": "stderr",
     "output_type": "stream",
     "text": [
      "🔁 Translating:  59%|█████▉    | 119/201 [14:25<13:41, 10.02s/it]"
     ]
    },
    {
     "name": "stdout",
     "output_type": "stream",
     "text": [
      "Translating chunk 1/1 (chars: 1043)\n"
     ]
    },
    {
     "name": "stderr",
     "output_type": "stream",
     "text": [
      "🔁 Translating:  60%|█████▉    | 120/201 [14:28<10:30,  7.78s/it]"
     ]
    },
    {
     "name": "stdout",
     "output_type": "stream",
     "text": [
      "Translating chunk 1/2 (chars: 1454)\n",
      "Translating chunk 2/2 (chars: 1353)\n"
     ]
    },
    {
     "name": "stderr",
     "output_type": "stream",
     "text": [
      "🔁 Translating:  60%|██████    | 121/201 [14:34<09:47,  7.34s/it]"
     ]
    },
    {
     "name": "stdout",
     "output_type": "stream",
     "text": [
      "Translating chunk 1/10 (chars: 1239)\n",
      "Translating chunk 2/10 (chars: 1361)\n",
      "Translating chunk 3/10 (chars: 1330)\n",
      "Translating chunk 4/10 (chars: 1219)\n",
      "Translating chunk 5/10 (chars: 1039)\n",
      "Translating chunk 6/10 (chars: 1189)\n",
      "Translating chunk 7/10 (chars: 1009)\n",
      "Translating chunk 8/10 (chars: 1461)\n",
      "Translating chunk 9/10 (chars: 1169)\n",
      "Translating chunk 10/10 (chars: 390)\n"
     ]
    },
    {
     "name": "stderr",
     "output_type": "stream",
     "text": [
      "🔁 Translating:  61%|██████    | 122/201 [15:00<17:09, 13.03s/it]"
     ]
    },
    {
     "name": "stdout",
     "output_type": "stream",
     "text": [
      "Translating chunk 1/1 (chars: 1037)\n"
     ]
    },
    {
     "name": "stderr",
     "output_type": "stream",
     "text": [
      "🔁 Translating:  61%|██████    | 123/201 [15:02<12:45,  9.81s/it]"
     ]
    },
    {
     "name": "stdout",
     "output_type": "stream",
     "text": [
      "Translating chunk 1/19 (chars: 1433)\n",
      "Translating chunk 2/19 (chars: 1199)\n",
      "Translating chunk 3/19 (chars: 1382)\n",
      "Translating chunk 4/19 (chars: 1235)\n",
      "Translating chunk 5/19 (chars: 1252)\n",
      "Translating chunk 6/19 (chars: 685)\n",
      "Translating chunk 7/19 (chars: 1467)\n",
      "Translating chunk 8/19 (chars: 1031)\n",
      "Translating chunk 9/19 (chars: 1368)\n",
      "Translating chunk 10/19 (chars: 1291)\n",
      "Translating chunk 11/19 (chars: 1240)\n",
      "Translating chunk 12/19 (chars: 1239)\n",
      "Translating chunk 13/19 (chars: 1394)\n",
      "Translating chunk 14/19 (chars: 1261)\n",
      "Translating chunk 15/19 (chars: 1201)\n",
      "Translating chunk 16/19 (chars: 908)\n",
      "Translating chunk 17/19 (chars: 1477)\n",
      "Translating chunk 18/19 (chars: 1313)\n",
      "Translating chunk 19/19 (chars: 537)\n"
     ]
    },
    {
     "name": "stderr",
     "output_type": "stream",
     "text": [
      "🔁 Translating:  62%|██████▏   | 124/201 [15:56<29:16, 22.81s/it]"
     ]
    },
    {
     "name": "stdout",
     "output_type": "stream",
     "text": [
      "Translating chunk 1/1 (chars: 1055)\n"
     ]
    },
    {
     "name": "stderr",
     "output_type": "stream",
     "text": [
      "🔁 Translating:  62%|██████▏   | 125/201 [15:58<21:17, 16.81s/it]"
     ]
    },
    {
     "name": "stdout",
     "output_type": "stream",
     "text": [
      "Translating chunk 1/2 (chars: 1492)\n",
      "Translating chunk 2/2 (chars: 585)\n"
     ]
    },
    {
     "name": "stderr",
     "output_type": "stream",
     "text": [
      "🔁 Translating:  63%|██████▎   | 126/201 [16:03<16:30, 13.21s/it]"
     ]
    },
    {
     "name": "stdout",
     "output_type": "stream",
     "text": [
      "Translating chunk 1/4 (chars: 678)\n",
      "Translating chunk 2/4 (chars: 823)\n",
      "Translating chunk 3/4 (chars: 1480)\n",
      "Translating chunk 4/4 (chars: 617)\n"
     ]
    },
    {
     "name": "stderr",
     "output_type": "stream",
     "text": [
      "🔁 Translating:  63%|██████▎   | 127/201 [16:12<14:37, 11.85s/it]"
     ]
    },
    {
     "name": "stdout",
     "output_type": "stream",
     "text": [
      "Translating chunk 1/1 (chars: 948)\n"
     ]
    },
    {
     "name": "stderr",
     "output_type": "stream",
     "text": [
      "🔁 Translating:  64%|██████▎   | 128/201 [16:14<10:54,  8.97s/it]"
     ]
    },
    {
     "name": "stdout",
     "output_type": "stream",
     "text": [
      "Translating chunk 1/1 (chars: 1365)\n"
     ]
    },
    {
     "name": "stderr",
     "output_type": "stream",
     "text": [
      "🔁 Translating:  64%|██████▍   | 129/201 [16:17<08:36,  7.18s/it]"
     ]
    },
    {
     "name": "stdout",
     "output_type": "stream",
     "text": [
      "Translating chunk 1/1 (chars: 504)\n"
     ]
    },
    {
     "name": "stderr",
     "output_type": "stream",
     "text": [
      "🔁 Translating:  65%|██████▍   | 130/201 [16:18<06:20,  5.37s/it]"
     ]
    },
    {
     "name": "stdout",
     "output_type": "stream",
     "text": [
      "Translating chunk 1/15 (chars: 1149)\n",
      "Translating chunk 2/15 (chars: 1325)\n",
      "Translating chunk 3/15 (chars: 1131)\n",
      "Translating chunk 4/15 (chars: 1261)\n",
      "Translating chunk 5/15 (chars: 1065)\n",
      "Translating chunk 6/15 (chars: 1487)\n",
      "Translating chunk 7/15 (chars: 1294)\n",
      "Translating chunk 8/15 (chars: 1346)\n",
      "Translating chunk 9/15 (chars: 1272)\n",
      "Translating chunk 10/15 (chars: 1376)\n",
      "Translating chunk 11/15 (chars: 1297)\n",
      "Translating chunk 12/15 (chars: 1192)\n",
      "Translating chunk 13/15 (chars: 1320)\n",
      "Translating chunk 14/15 (chars: 1452)\n",
      "Translating chunk 15/15 (chars: 1017)\n"
     ]
    },
    {
     "name": "stderr",
     "output_type": "stream",
     "text": [
      "🔁 Translating:  65%|██████▌   | 131/201 [17:01<19:18, 16.55s/it]"
     ]
    },
    {
     "name": "stdout",
     "output_type": "stream",
     "text": [
      "Translating chunk 1/1 (chars: 1458)\n"
     ]
    },
    {
     "name": "stderr",
     "output_type": "stream",
     "text": [
      "🔁 Translating:  66%|██████▌   | 132/201 [17:04<14:17, 12.42s/it]"
     ]
    },
    {
     "name": "stdout",
     "output_type": "stream",
     "text": [
      "Translating chunk 1/1 (chars: 1093)\n"
     ]
    },
    {
     "name": "stderr",
     "output_type": "stream",
     "text": [
      "🔁 Translating:  66%|██████▌   | 133/201 [17:06<10:40,  9.42s/it]"
     ]
    },
    {
     "name": "stdout",
     "output_type": "stream",
     "text": [
      "Translating chunk 1/6 (chars: 1178)\n",
      "Translating chunk 2/6 (chars: 1078)\n",
      "Translating chunk 3/6 (chars: 1219)\n",
      "Translating chunk 4/6 (chars: 1102)\n",
      "Translating chunk 5/6 (chars: 1112)\n",
      "Translating chunk 6/6 (chars: 429)\n"
     ]
    },
    {
     "name": "stderr",
     "output_type": "stream",
     "text": [
      "🔁 Translating:  67%|██████▋   | 134/201 [17:21<12:17, 11.00s/it]"
     ]
    },
    {
     "name": "stdout",
     "output_type": "stream",
     "text": [
      "Translating chunk 1/1 (chars: 1168)\n"
     ]
    },
    {
     "name": "stderr",
     "output_type": "stream",
     "text": [
      "🔁 Translating:  67%|██████▋   | 135/201 [17:23<09:16,  8.43s/it]"
     ]
    },
    {
     "name": "stdout",
     "output_type": "stream",
     "text": [
      "Translating chunk 1/10 (chars: 1102)\n",
      "Translating chunk 2/10 (chars: 1372)\n",
      "Translating chunk 3/10 (chars: 1388)\n",
      "Translating chunk 4/10 (chars: 1394)\n",
      "Translating chunk 5/10 (chars: 1206)\n",
      "Translating chunk 6/10 (chars: 1355)\n",
      "Translating chunk 7/10 (chars: 274)\n",
      "Translating chunk 8/10 (chars: 1307)\n",
      "Translating chunk 9/10 (chars: 1190)\n",
      "Translating chunk 10/10 (chars: 400)\n"
     ]
    },
    {
     "name": "stderr",
     "output_type": "stream",
     "text": [
      "🔁 Translating:  68%|██████▊   | 136/201 [17:49<14:47, 13.65s/it]"
     ]
    },
    {
     "name": "stdout",
     "output_type": "stream",
     "text": [
      "Translating chunk 1/1 (chars: 904)\n"
     ]
    },
    {
     "name": "stderr",
     "output_type": "stream",
     "text": [
      "🔁 Translating:  68%|██████▊   | 137/201 [17:51<10:55, 10.25s/it]"
     ]
    },
    {
     "name": "stdout",
     "output_type": "stream",
     "text": [
      "Translating chunk 1/2 (chars: 1258)\n",
      "Translating chunk 2/2 (chars: 1178)\n"
     ]
    },
    {
     "name": "stderr",
     "output_type": "stream",
     "text": [
      "🔁 Translating:  69%|██████▊   | 138/201 [17:57<09:27,  9.00s/it]"
     ]
    },
    {
     "name": "stdout",
     "output_type": "stream",
     "text": [
      "Translating chunk 1/1 (chars: 1227)\n"
     ]
    },
    {
     "name": "stderr",
     "output_type": "stream",
     "text": [
      "🔁 Translating:  69%|██████▉   | 139/201 [18:00<07:24,  7.18s/it]"
     ]
    },
    {
     "name": "stdout",
     "output_type": "stream",
     "text": [
      "Translating chunk 1/1 (chars: 782)\n"
     ]
    },
    {
     "name": "stderr",
     "output_type": "stream",
     "text": [
      "🔁 Translating:  70%|██████▉   | 140/201 [18:02<05:40,  5.59s/it]"
     ]
    },
    {
     "name": "stdout",
     "output_type": "stream",
     "text": [
      "Translating chunk 1/1 (chars: 465)\n"
     ]
    },
    {
     "name": "stderr",
     "output_type": "stream",
     "text": [
      "🔁 Translating:  70%|███████   | 141/201 [18:03<04:15,  4.25s/it]"
     ]
    },
    {
     "name": "stdout",
     "output_type": "stream",
     "text": [
      "Translating chunk 1/12 (chars: 1237)\n",
      "Translating chunk 2/12 (chars: 1452)\n",
      "Translating chunk 3/12 (chars: 1265)\n",
      "Translating chunk 4/12 (chars: 993)\n",
      "Translating chunk 5/12 (chars: 1118)\n",
      "Translating chunk 6/12 (chars: 1147)\n",
      "Translating chunk 7/12 (chars: 1383)\n",
      "Translating chunk 8/12 (chars: 1315)\n",
      "Translating chunk 9/12 (chars: 1287)\n",
      "Translating chunk 10/12 (chars: 1192)\n",
      "Translating chunk 11/12 (chars: 1358)\n",
      "Translating chunk 12/12 (chars: 906)\n"
     ]
    },
    {
     "name": "stderr",
     "output_type": "stream",
     "text": [
      "🔁 Translating:  71%|███████   | 142/201 [18:38<13:10, 13.41s/it]"
     ]
    },
    {
     "name": "stdout",
     "output_type": "stream",
     "text": [
      "Translating chunk 1/1 (chars: 1337)\n"
     ]
    },
    {
     "name": "stderr",
     "output_type": "stream",
     "text": [
      "🔁 Translating:  71%|███████   | 143/201 [18:41<09:51, 10.20s/it]"
     ]
    },
    {
     "name": "stdout",
     "output_type": "stream",
     "text": [
      "Translating chunk 1/3 (chars: 1394)\n",
      "Translating chunk 2/3 (chars: 870)\n",
      "Translating chunk 3/3 (chars: 1186)\n"
     ]
    },
    {
     "name": "stderr",
     "output_type": "stream",
     "text": [
      "🔁 Translating:  72%|███████▏  | 144/201 [18:49<09:12,  9.70s/it]"
     ]
    },
    {
     "name": "stdout",
     "output_type": "stream",
     "text": [
      "Translating chunk 1/1 (chars: 971)\n"
     ]
    },
    {
     "name": "stderr",
     "output_type": "stream",
     "text": [
      "🔁 Translating:  72%|███████▏  | 145/201 [18:52<06:57,  7.45s/it]"
     ]
    },
    {
     "name": "stdout",
     "output_type": "stream",
     "text": [
      "Translating chunk 1/1 (chars: 621)\n"
     ]
    },
    {
     "name": "stderr",
     "output_type": "stream",
     "text": [
      "🔁 Translating:  73%|███████▎  | 146/201 [18:53<05:10,  5.65s/it]"
     ]
    },
    {
     "name": "stdout",
     "output_type": "stream",
     "text": [
      "Translating chunk 1/2 (chars: 1351)\n",
      "Translating chunk 2/2 (chars: 1139)\n"
     ]
    },
    {
     "name": "stderr",
     "output_type": "stream",
     "text": [
      "🔁 Translating:  73%|███████▎  | 147/201 [18:59<05:15,  5.84s/it]"
     ]
    },
    {
     "name": "stdout",
     "output_type": "stream",
     "text": [
      "Translating chunk 1/1 (chars: 1360)\n"
     ]
    },
    {
     "name": "stderr",
     "output_type": "stream",
     "text": [
      "🔁 Translating:  74%|███████▎  | 148/201 [19:03<04:36,  5.21s/it]"
     ]
    },
    {
     "name": "stdout",
     "output_type": "stream",
     "text": [
      "Translating chunk 1/2 (chars: 1382)\n",
      "Translating chunk 2/2 (chars: 1269)\n"
     ]
    },
    {
     "name": "stderr",
     "output_type": "stream",
     "text": [
      "🔁 Translating:  74%|███████▍  | 149/201 [19:09<04:42,  5.42s/it]"
     ]
    },
    {
     "name": "stdout",
     "output_type": "stream",
     "text": [
      "Translating chunk 1/3 (chars: 1105)\n",
      "Translating chunk 2/3 (chars: 1400)\n",
      "Translating chunk 3/3 (chars: 488)\n"
     ]
    },
    {
     "name": "stderr",
     "output_type": "stream",
     "text": [
      "🔁 Translating:  75%|███████▍  | 150/201 [19:16<04:56,  5.81s/it]"
     ]
    },
    {
     "name": "stdout",
     "output_type": "stream",
     "text": [
      "Translating chunk 1/3 (chars: 996)\n",
      "Translating chunk 2/3 (chars: 1327)\n",
      "Translating chunk 3/3 (chars: 588)\n"
     ]
    },
    {
     "name": "stderr",
     "output_type": "stream",
     "text": [
      "🔁 Translating: 100%|██████████| 201/201 [19:22<00:00,  5.78s/it]\n"
     ]
    },
    {
     "name": "stdout",
     "output_type": "stream",
     "text": [
      "Translated annotations saved to: /home/akroon/webdav/ASCOR-FMG-5580-RESPOND-news-data (Projectfolder)/annotations/classified_pol_corruption_gabriele_translated.csv\n",
      "Processing 201 articles for classification...\n",
      "Classifying article 1/201\n",
      "Classifying article 2/201\n",
      "Classifying article 3/201\n",
      "Classifying article 4/201\n",
      "Classifying article 5/201\n",
      "Classifying article 6/201\n",
      "Classifying article 7/201\n",
      "Classifying article 8/201\n",
      "Classifying article 9/201\n",
      "Classifying article 10/201\n",
      "Classifying article 11/201\n",
      "Classifying article 12/201\n",
      "Classifying article 13/201\n",
      "Classifying article 14/201\n",
      "Classifying article 15/201\n",
      "Classifying article 16/201\n",
      "❌ Classification error: HTTPConnectionPool(host='localhost', port=11434): Read timed out. (read timeout=60)\n",
      "Classifying article 17/201\n",
      "Classifying article 18/201\n",
      "Classifying article 19/201\n",
      "Classifying article 20/201\n",
      "Classifying article 21/201\n",
      "Classifying article 22/201\n",
      "Classifying article 23/201\n",
      "Classifying article 24/201\n",
      "Classifying article 25/201\n",
      "Classifying article 26/201\n",
      "Classifying article 27/201\n",
      "Classifying article 29/201\n",
      "Classifying article 30/201\n",
      "Classifying article 31/201\n",
      "Classifying article 32/201\n",
      "Classifying article 33/201\n",
      "Classifying article 34/201\n",
      "Classifying article 35/201\n",
      "Classifying article 36/201\n",
      "Classifying article 38/201\n",
      "Classifying article 39/201\n",
      "Classifying article 40/201\n",
      "Classifying article 41/201\n",
      "Classifying article 42/201\n",
      "Classifying article 43/201\n",
      "Classifying article 44/201\n",
      "Classifying article 45/201\n",
      "Classifying article 46/201\n",
      "Classifying article 47/201\n",
      "Classifying article 48/201\n",
      "Classifying article 49/201\n",
      "Classifying article 50/201\n",
      "Classifying article 784/201\n",
      "Classifying article 785/201\n",
      "Classifying article 786/201\n",
      "Classifying article 787/201\n",
      "Classifying article 788/201\n",
      "Classifying article 789/201\n",
      "Classifying article 790/201\n",
      "Classifying article 791/201\n",
      "Classifying article 792/201\n",
      "Classifying article 793/201\n",
      "Classifying article 794/201\n",
      "Classifying article 795/201\n",
      "Classifying article 796/201\n",
      "Classifying article 797/201\n",
      "Classifying article 798/201\n",
      "Classifying article 799/201\n",
      "Classifying article 800/201\n",
      "Classifying article 801/201\n",
      "Classifying article 802/201\n",
      "Classifying article 803/201\n",
      "Classifying article 804/201\n",
      "Classifying article 805/201\n",
      "Classifying article 806/201\n",
      "Classifying article 807/201\n",
      "Classifying article 808/201\n",
      "Classifying article 809/201\n",
      "Classifying article 810/201\n",
      "Classifying article 811/201\n",
      "Classifying article 812/201\n",
      "Classifying article 813/201\n",
      "Classifying article 814/201\n",
      "Classifying article 815/201\n",
      "Classifying article 816/201\n",
      "Classifying article 817/201\n",
      "Classifying article 818/201\n",
      "Classifying article 819/201\n",
      "Classifying article 820/201\n",
      "Classifying article 821/201\n",
      "Classifying article 822/201\n",
      "Classifying article 823/201\n",
      "Classifying article 824/201\n",
      "Classifying article 825/201\n",
      "Classifying article 826/201\n",
      "Classifying article 827/201\n",
      "Classifying article 828/201\n",
      "Classifying article 829/201\n",
      "Classifying article 830/201\n",
      "Classifying article 831/201\n",
      "Classifying article 832/201\n",
      "Classifying article 833/201\n",
      "Classifying article 834/201\n",
      "Classifying article 884/201\n",
      "Classifying article 885/201\n",
      "Classifying article 886/201\n",
      "Classifying article 887/201\n",
      "Classifying article 888/201\n",
      "Classifying article 889/201\n",
      "Classifying article 890/201\n",
      "Classifying article 891/201\n",
      "Classifying article 892/201\n",
      "Classifying article 893/201\n",
      "Classifying article 894/201\n",
      "Classifying article 895/201\n",
      "Classifying article 896/201\n",
      "Classifying article 897/201\n",
      "Classifying article 898/201\n",
      "Classifying article 899/201\n",
      "Classifying article 900/201\n",
      "Classifying article 901/201\n",
      "Classifying article 902/201\n",
      "Classifying article 903/201\n",
      "Classifying article 904/201\n",
      "Classifying article 905/201\n",
      "Classifying article 906/201\n",
      "Classifying article 907/201\n",
      "Classifying article 908/201\n",
      "Classifying article 909/201\n",
      "Classifying article 910/201\n",
      "Classifying article 911/201\n",
      "Classifying article 912/201\n",
      "Classifying article 913/201\n",
      "Classifying article 914/201\n",
      "Classifying article 915/201\n",
      "Classifying article 916/201\n",
      "Classifying article 917/201\n",
      "Classifying article 918/201\n",
      "Classifying article 919/201\n",
      "Classifying article 920/201\n",
      "Classifying article 921/201\n",
      "Classifying article 922/201\n",
      "Classifying article 923/201\n",
      "Classifying article 924/201\n",
      "Classifying article 925/201\n",
      "Classifying article 926/201\n",
      "Classifying article 927/201\n",
      "Classifying article 928/201\n",
      "Classifying article 929/201\n",
      "Classifying article 930/201\n",
      "Classifying article 931/201\n",
      "Classifying article 932/201\n",
      "Classifying article 933/201\n",
      "Classifying article 934/201\n",
      "Classifying article 1488/201\n",
      "Classifying article 1489/201\n",
      "Classifying article 1490/201\n",
      "Classifying article 1491/201\n",
      "Classifying article 1492/201\n",
      "Classifying article 1493/201\n",
      "Classifying article 1494/201\n",
      "Classifying article 1495/201\n",
      "Classifying article 1496/201\n",
      "Classifying article 1497/201\n",
      "Classifying article 1498/201\n",
      "Classifying article 1499/201\n",
      "Classifying article 1500/201\n",
      "Classifying article 1501/201\n",
      "Classifying article 1502/201\n",
      "Classifying article 1503/201\n",
      "Classifying article 1504/201\n",
      "Classifying article 1505/201\n",
      "Classifying article 1506/201\n",
      "Classifying article 1507/201\n",
      "Classifying article 1508/201\n",
      "Classifying article 1509/201\n",
      "Classifying article 1510/201\n",
      "Classifying article 1511/201\n",
      "Classifying article 1512/201\n",
      "Classifying article 1513/201\n",
      "Classifying article 1514/201\n",
      "Classifying article 1515/201\n",
      "Classifying article 1516/201\n",
      "Classifying article 1517/201\n",
      "Classifying article 1518/201\n",
      "Classifying article 1519/201\n",
      "Classifying article 1520/201\n",
      "Classifying article 1521/201\n",
      "Classifying article 1522/201\n",
      "Classifying article 1523/201\n",
      "Classifying article 1524/201\n",
      "Classifying article 1525/201\n",
      "Classifying article 1526/201\n",
      "Classifying article 1527/201\n",
      "Classifying article 1528/201\n",
      "Classifying article 1529/201\n",
      "Classifying article 1530/201\n",
      "Classifying article 1531/201\n",
      "Classifying article 1532/201\n",
      "Classifying article 1533/201\n",
      "Classifying article 1534/201\n",
      "Classifying article 1535/201\n",
      "Classifying article 1536/201\n",
      "Classifying article 1537/201\n",
      "Classifying article 1538/201\n",
      "CSV saved to: /home/akroon/webdav/ASCOR-FMG-5580-RESPOND-news-data (Projectfolder)/annotations/df_output_with_llm_annotations.csv\n",
      "Excel saved to: /home/akroon/webdav/ASCOR-FMG-5580-RESPOND-news-data (Projectfolder)/annotations/df_output_with_llm_annotations.xlsx\n",
      "\n",
      "📊 Classification Report:\n",
      "              precision    recall  f1-score   support\n",
      "\n",
      "         Yes       0.74      0.64      0.69        45\n",
      "          No       0.90      0.94      0.92       156\n",
      "\n",
      "    accuracy                           0.87       201\n",
      "   macro avg       0.82      0.79      0.80       201\n",
      "weighted avg       0.87      0.87      0.87       201\n",
      "\n"
     ]
    }
   ],
   "source": [
    "import os\n",
    "import pandas as pd\n",
    "from dataloader import load_and_prepare_data, balanced_sample, load_human_annotated_for_translation\n",
    "from translation import translate_dataframe\n",
    "from utils.classifier import classify_article\n",
    "from sklearn.metrics import classification_report\n",
    "\n",
    "# Step 1: Load and translate human-annotated data\n",
    "df_anno = load_human_annotated_for_translation()\n",
    "df_anno[\"text\"] = df_anno[\"combined_text\"]\n",
    "df_translated_anno = translate_dataframe(df_anno)\n",
    "\n",
    "# Prepare output dataframe with selected columns\n",
    "df = pd.DataFrame({\n",
    "    \"original_text\": df_anno[\"combined_text\"],\n",
    "    \"translated_text\": df_translated_anno[\"translated_text\"],\n",
    "    \"uri\": df_anno.get(\"uri\", \"\"),  # Use empty string if 'uri' missing\n",
    "    \"corruption_label_m\": df_anno[\"corruption_label_m\"]\n",
    "})\n",
    "\n",
    "# Save translated annotations CSV\n",
    "translated_csv_path = os.path.expanduser(\n",
    "    '~/webdav/ASCOR-FMG-5580-RESPOND-news-data (Projectfolder)/annotations/classified_pol_corruption_gabriele_translated.csv'\n",
    ")\n",
    "df.to_csv(translated_csv_path, index=False)\n",
    "print(f\"Translated annotations saved to: {translated_csv_path}\")\n",
    "\n",
    "# Step 2: Classify translated articles using the LLM classifier\n",
    "results = {\n",
    "    \"llm_evidence\": [],\n",
    "    \"llm_rationale\": [],\n",
    "    \"llm_confidence\": [],\n",
    "    \"llm_label\": []\n",
    "}\n",
    "\n",
    "print(f\"Processing {len(df)} articles for classification...\")\n",
    "\n",
    "for idx, row in df.iterrows():\n",
    "    print(f\"Classifying article {idx + 1}/{len(df)}\")\n",
    "    article_text = row[\"translated_text\"]\n",
    "\n",
    "    if not isinstance(article_text, str) or len(article_text.strip()) == 0:\n",
    "        print(\"⚠️ Skipping empty article.\")\n",
    "        results[\"llm_evidence\"].append(\"\")\n",
    "        results[\"llm_rationale\"].append(\"No content\")\n",
    "        results[\"llm_confidence\"].append(None)\n",
    "        results[\"llm_label\"].append(\"No\")\n",
    "        continue\n",
    "\n",
    "    output = classify_article(article_text)\n",
    "\n",
    "    evidence = \"; \".join(output.get(\"highlights\", []))\n",
    "    results[\"llm_evidence\"].append(evidence)\n",
    "    results[\"llm_rationale\"].append(output.get(\"rationale\", \"\"))\n",
    "    results[\"llm_confidence\"].append(output.get(\"confidence\", \"\"))\n",
    "    results[\"llm_label\"].append(output.get(\"tentative_label\", \"\"))\n",
    "\n",
    "# Add classification results to DataFrame\n",
    "df[\"llm_evidence\"] = results[\"llm_evidence\"]\n",
    "df[\"llm_rationale\"] = results[\"llm_rationale\"]\n",
    "df[\"llm_confidence\"] = results[\"llm_confidence\"]\n",
    "df[\"llm_label\"] = results[\"llm_label\"]\n",
    "\n",
    "# Step 3: Save final annotated DataFrame as CSV and Excel\n",
    "ANNOTATION_PATH = os.path.expanduser('~/webdav/ASCOR-FMG-5580-RESPOND-news-data (Projectfolder)/annotations/')\n",
    "OUTPUT_FILE = \"df_output_with_llm_annotations.csv\"\n",
    "os.makedirs(ANNOTATION_PATH, exist_ok=True)\n",
    "\n",
    "csv_path = os.path.join(ANNOTATION_PATH, OUTPUT_FILE)\n",
    "xlsx_path = csv_path.replace('.csv', '.xlsx')\n",
    "\n",
    "df.to_csv(csv_path, index=False)\n",
    "print(f\"CSV saved to: {csv_path}\")\n",
    "\n",
    "df.to_excel(xlsx_path, index=False)\n",
    "print(f\"Excel saved to: {xlsx_path}\")\n",
    "\n",
    "# Step 4: Evaluate classification with sklearn classification_report\n",
    "# Map ground truth to \"Yes\" or \"No\"\n",
    "y_true = df[\"corruption_label_m\"].map({\n",
    "    \"political corruption\": \"Yes\",\n",
    "    \"no political corruption\": \"No\"\n",
    "})\n",
    "\n",
    "# Map predictions, collapsing 'Unsure' and 'Mentioned but not central' into 'No'\n",
    "def map_prediction(label):\n",
    "    if not isinstance(label, str):\n",
    "        return \"No\"\n",
    "    label = label.strip().capitalize()\n",
    "    if label == \"Yes\":\n",
    "        return \"Yes\"\n",
    "    elif label in [\"No\", \"Unsure\", \"Mentioned but not central\"]:\n",
    "        return \"No\"\n",
    "    else:\n",
    "        return \"No\"\n",
    "\n",
    "y_pred = df[\"llm_label\"].map(map_prediction)\n",
    "\n",
    "print(\"\\n📊 Classification Report:\")\n",
    "print(classification_report(y_true, y_pred, labels=[\"Yes\", \"No\"], zero_division=0))"
   ]
  },
  {
   "cell_type": "code",
   "execution_count": 12,
   "id": "4b8f75e2-20cb-4a65-ab73-11b9b390371a",
   "metadata": {},
   "outputs": [
    {
     "name": "stdout",
     "output_type": "stream",
     "text": [
      "📂 Loading classified data from: /home/akroon/webdav/ASCOR-FMG-5580-RESPOND-news-data (Projectfolder)/annotations/df_output_with_llm_annotations.csv\n",
      "🔗 Merging 'country' into classified DataFrame based on 'uri'...\n",
      "✅ Merged file with country saved to: /home/akroon/webdav/ASCOR-FMG-5580-RESPOND-news-data (Projectfolder)/annotations/df_output_with_country.csv\n"
     ]
    },
    {
     "data": {
      "text/html": [
       "<div>\n",
       "<style scoped>\n",
       "    .dataframe tbody tr th:only-of-type {\n",
       "        vertical-align: middle;\n",
       "    }\n",
       "\n",
       "    .dataframe tbody tr th {\n",
       "        vertical-align: top;\n",
       "    }\n",
       "\n",
       "    .dataframe thead th {\n",
       "        text-align: right;\n",
       "    }\n",
       "</style>\n",
       "<table border=\"1\" class=\"dataframe\">\n",
       "  <thead>\n",
       "    <tr style=\"text-align: right;\">\n",
       "      <th></th>\n",
       "      <th>original_text</th>\n",
       "      <th>translated_text</th>\n",
       "      <th>uri</th>\n",
       "      <th>corruption_label_m</th>\n",
       "      <th>llm_evidence</th>\n",
       "      <th>llm_rationale</th>\n",
       "      <th>llm_confidence</th>\n",
       "      <th>llm_label</th>\n",
       "      <th>country</th>\n",
       "    </tr>\n",
       "  </thead>\n",
       "  <tbody>\n",
       "    <tr>\n",
       "      <th>0</th>\n",
       "      <td>\"Нова демокрация\" прекрати партийното членство...</td>\n",
       "      <td>“Nova Demokratiya” (New Democracy) has termina...</td>\n",
       "      <td>7305090551</td>\n",
       "      <td>political corruption</td>\n",
       "      <td>The governing party of Greece, \"Nova Demokrati...</td>\n",
       "      <td>The article directly mentions fraud investigat...</td>\n",
       "      <td>95.0</td>\n",
       "      <td>Yes</td>\n",
       "      <td>Bulgaria</td>\n",
       "    </tr>\n",
       "    <tr>\n",
       "      <th>1</th>\n",
       "      <td>Съдът намали паричната гаранция на Васил Божко...</td>\n",
       "      <td>The court reduced the bail of Vasil Bozhkov by...</td>\n",
       "      <td>7733034567</td>\n",
       "      <td>no political corruption</td>\n",
       "      <td>The bail for the businessman who returned from...</td>\n",
       "      <td>Although the article mentions criminal activit...</td>\n",
       "      <td>80.0</td>\n",
       "      <td>No</td>\n",
       "      <td>Bulgaria</td>\n",
       "    </tr>\n",
       "    <tr>\n",
       "      <th>2</th>\n",
       "      <td>\"Равен мач\" за Зеленски, но всъщност - победа ...</td>\n",
       "      <td>[Translation Failed]\\n\\nBut if “homework” is n...</td>\n",
       "      <td>1372983334</td>\n",
       "      <td>no political corruption</td>\n",
       "      <td>NaN</td>\n",
       "      <td>The article appears to be about a person's car...</td>\n",
       "      <td>50.0</td>\n",
       "      <td>No</td>\n",
       "      <td>Bulgaria</td>\n",
       "    </tr>\n",
       "    <tr>\n",
       "      <th>3</th>\n",
       "      <td>Трима задържани за измама с евросредства за зе...</td>\n",
       "      <td>Three Arrested for Fraud with Agricultural Eur...</td>\n",
       "      <td>6639092652</td>\n",
       "      <td>political corruption</td>\n",
       "      <td>A fraud involving over 100,000 leva in Europea...</td>\n",
       "      <td>The article primarily focuses on a fraud schem...</td>\n",
       "      <td>80.0</td>\n",
       "      <td>No</td>\n",
       "      <td>Bulgaria</td>\n",
       "    </tr>\n",
       "    <tr>\n",
       "      <th>4</th>\n",
       "      <td>Окончателно: Стайко Стайков ще се лекува под д...</td>\n",
       "      <td>Finally: Staikо Staikov will be treated under ...</td>\n",
       "      <td>1063142066</td>\n",
       "      <td>no political corruption</td>\n",
       "      <td>Staikov is accused of involvement in a crimina...</td>\n",
       "      <td>While the article mentions a criminal group an...</td>\n",
       "      <td>80.0</td>\n",
       "      <td>Mentioned but not central</td>\n",
       "      <td>Bulgaria</td>\n",
       "    </tr>\n",
       "    <tr>\n",
       "      <th>...</th>\n",
       "      <td>...</td>\n",
       "      <td>...</td>\n",
       "      <td>...</td>\n",
       "      <td>...</td>\n",
       "      <td>...</td>\n",
       "      <td>...</td>\n",
       "      <td>...</td>\n",
       "      <td>...</td>\n",
       "      <td>...</td>\n",
       "    </tr>\n",
       "    <tr>\n",
       "      <th>196</th>\n",
       "      <td>Designer of cot in which baby died jailed for ...</td>\n",
       "      <td>Designer of cot in which baby died jailed for ...</td>\n",
       "      <td>979152289</td>\n",
       "      <td>no political corruption</td>\n",
       "      <td>Prosecutor John Elvidge QC said the defendant ...</td>\n",
       "      <td>While there are mentions of fraud, which could...</td>\n",
       "      <td>90.0</td>\n",
       "      <td>No</td>\n",
       "      <td>United_Kingdom</td>\n",
       "    </tr>\n",
       "    <tr>\n",
       "      <th>197</th>\n",
       "      <td>HMRC warn of scammers targeting Self-Employmen...</td>\n",
       "      <td>HMRC warn of scammers targeting Self-Employmen...</td>\n",
       "      <td>6671822812</td>\n",
       "      <td>no political corruption</td>\n",
       "      <td>NaN</td>\n",
       "      <td>The article is primarily about warning self-em...</td>\n",
       "      <td>90.0</td>\n",
       "      <td>No</td>\n",
       "      <td>United_Kingdom</td>\n",
       "    </tr>\n",
       "    <tr>\n",
       "      <th>198</th>\n",
       "      <td>New BoE boss Bailey does not back immediate vi...</td>\n",
       "      <td>New BoE boss Bailey does not back immediate vi...</td>\n",
       "      <td>1470810727</td>\n",
       "      <td>no political corruption</td>\n",
       "      <td>Bailey, a former BoE deputy governor with 30 y...</td>\n",
       "      <td>The article primarily focuses on Andrew Bailey...</td>\n",
       "      <td>80.0</td>\n",
       "      <td>Mentioned but not central</td>\n",
       "      <td>United_Kingdom</td>\n",
       "    </tr>\n",
       "    <tr>\n",
       "      <th>199</th>\n",
       "      <td>Thief admits stealing more than £100,000 from ...</td>\n",
       "      <td>Thief admits stealing more than £100,000 from ...</td>\n",
       "      <td>1058183409</td>\n",
       "      <td>no political corruption</td>\n",
       "      <td>None (there are no direct mentions of politica...</td>\n",
       "      <td>This article primarily focuses on a private in...</td>\n",
       "      <td>100.0</td>\n",
       "      <td>No</td>\n",
       "      <td>United_Kingdom</td>\n",
       "    </tr>\n",
       "    <tr>\n",
       "      <th>200</th>\n",
       "      <td>Once he becomes a private citizen, Twitter sho...</td>\n",
       "      <td>Once he becomes a private citizen, Twitter sho...</td>\n",
       "      <td>6388221145</td>\n",
       "      <td>no political corruption</td>\n",
       "      <td>\"The impeachment of Donald Trump is clearly me...</td>\n",
       "      <td>While the article mentions abuses of power and...</td>\n",
       "      <td>80.0</td>\n",
       "      <td>No</td>\n",
       "      <td>United_Kingdom</td>\n",
       "    </tr>\n",
       "  </tbody>\n",
       "</table>\n",
       "<p>201 rows × 9 columns</p>\n",
       "</div>"
      ],
      "text/plain": [
       "                                         original_text  \\\n",
       "0    \"Нова демокрация\" прекрати партийното членство...   \n",
       "1    Съдът намали паричната гаранция на Васил Божко...   \n",
       "2    \"Равен мач\" за Зеленски, но всъщност - победа ...   \n",
       "3    Трима задържани за измама с евросредства за зе...   \n",
       "4    Окончателно: Стайко Стайков ще се лекува под д...   \n",
       "..                                                 ...   \n",
       "196  Designer of cot in which baby died jailed for ...   \n",
       "197  HMRC warn of scammers targeting Self-Employmen...   \n",
       "198  New BoE boss Bailey does not back immediate vi...   \n",
       "199  Thief admits stealing more than £100,000 from ...   \n",
       "200  Once he becomes a private citizen, Twitter sho...   \n",
       "\n",
       "                                       translated_text         uri  \\\n",
       "0    “Nova Demokratiya” (New Democracy) has termina...  7305090551   \n",
       "1    The court reduced the bail of Vasil Bozhkov by...  7733034567   \n",
       "2    [Translation Failed]\\n\\nBut if “homework” is n...  1372983334   \n",
       "3    Three Arrested for Fraud with Agricultural Eur...  6639092652   \n",
       "4    Finally: Staikо Staikov will be treated under ...  1063142066   \n",
       "..                                                 ...         ...   \n",
       "196  Designer of cot in which baby died jailed for ...   979152289   \n",
       "197  HMRC warn of scammers targeting Self-Employmen...  6671822812   \n",
       "198  New BoE boss Bailey does not back immediate vi...  1470810727   \n",
       "199  Thief admits stealing more than £100,000 from ...  1058183409   \n",
       "200  Once he becomes a private citizen, Twitter sho...  6388221145   \n",
       "\n",
       "          corruption_label_m  \\\n",
       "0       political corruption   \n",
       "1    no political corruption   \n",
       "2    no political corruption   \n",
       "3       political corruption   \n",
       "4    no political corruption   \n",
       "..                       ...   \n",
       "196  no political corruption   \n",
       "197  no political corruption   \n",
       "198  no political corruption   \n",
       "199  no political corruption   \n",
       "200  no political corruption   \n",
       "\n",
       "                                          llm_evidence  \\\n",
       "0    The governing party of Greece, \"Nova Demokrati...   \n",
       "1    The bail for the businessman who returned from...   \n",
       "2                                                  NaN   \n",
       "3    A fraud involving over 100,000 leva in Europea...   \n",
       "4    Staikov is accused of involvement in a crimina...   \n",
       "..                                                 ...   \n",
       "196  Prosecutor John Elvidge QC said the defendant ...   \n",
       "197                                                NaN   \n",
       "198  Bailey, a former BoE deputy governor with 30 y...   \n",
       "199  None (there are no direct mentions of politica...   \n",
       "200  \"The impeachment of Donald Trump is clearly me...   \n",
       "\n",
       "                                         llm_rationale  llm_confidence  \\\n",
       "0    The article directly mentions fraud investigat...            95.0   \n",
       "1    Although the article mentions criminal activit...            80.0   \n",
       "2    The article appears to be about a person's car...            50.0   \n",
       "3    The article primarily focuses on a fraud schem...            80.0   \n",
       "4    While the article mentions a criminal group an...            80.0   \n",
       "..                                                 ...             ...   \n",
       "196  While there are mentions of fraud, which could...            90.0   \n",
       "197  The article is primarily about warning self-em...            90.0   \n",
       "198  The article primarily focuses on Andrew Bailey...            80.0   \n",
       "199  This article primarily focuses on a private in...           100.0   \n",
       "200  While the article mentions abuses of power and...            80.0   \n",
       "\n",
       "                     llm_label         country  \n",
       "0                          Yes        Bulgaria  \n",
       "1                           No        Bulgaria  \n",
       "2                           No        Bulgaria  \n",
       "3                           No        Bulgaria  \n",
       "4    Mentioned but not central        Bulgaria  \n",
       "..                         ...             ...  \n",
       "196                         No  United_Kingdom  \n",
       "197                         No  United_Kingdom  \n",
       "198  Mentioned but not central  United_Kingdom  \n",
       "199                         No  United_Kingdom  \n",
       "200                         No  United_Kingdom  \n",
       "\n",
       "[201 rows x 9 columns]"
      ]
     },
     "execution_count": 12,
     "metadata": {},
     "output_type": "execute_result"
    }
   ],
   "source": [
    "import os\n",
    "import pandas as pd\n",
    "\n",
    "# Define paths\n",
    "ANNOTATION_PATH = os.path.expanduser('~/webdav/ASCOR-FMG-5580-RESPOND-news-data (Projectfolder)/annotations/')\n",
    "OUTPUT_FILE = \"df_output_with_llm_annotations.csv\"\n",
    "csv_path = os.path.join(ANNOTATION_PATH, OUTPUT_FILE)\n",
    "\n",
    "# Load the saved LLM-annotated file\n",
    "print(f\"📂 Loading classified data from: {csv_path}\")\n",
    "df_classified = pd.read_csv(csv_path)\n",
    "\n",
    "# Select only URI and country from df_anno (to avoid duplicates)\n",
    "df_country = df_anno[[\"uri\", \"country\"]].drop_duplicates()\n",
    "\n",
    "# Merge on URI\n",
    "print(\"🔗 Merging 'country' into classified DataFrame based on 'uri'...\")\n",
    "df_merged = pd.merge(df_classified, df_country, on=\"uri\", how=\"left\")\n",
    "\n",
    "# Save the merged DataFrame\n",
    "merged_csv_path = os.path.join(ANNOTATION_PATH, \"df_output_with_country.csv\")\n",
    "df_merged.to_csv(merged_csv_path, index=False)\n",
    "print(f\"✅ Merged file with country saved to: {merged_csv_path}\")\n",
    "\n",
    "df_merged"
   ]
  },
  {
   "cell_type": "code",
   "execution_count": 15,
   "id": "92b7d5d3-2960-4a5c-a95a-a66127f26169",
   "metadata": {},
   "outputs": [
    {
     "name": "stdout",
     "output_type": "stream",
     "text": [
      "\n",
      "📍 Classification Report Per Country:\n",
      "\n",
      "🗺️ Country: Bulgaria (48 articles)\n",
      "              precision    recall  f1-score   support\n",
      "\n",
      "         Yes       0.88      0.78      0.82        18\n",
      "          No       0.88      0.93      0.90        30\n",
      "\n",
      "    accuracy                           0.88        48\n",
      "   macro avg       0.88      0.86      0.86        48\n",
      "weighted avg       0.88      0.88      0.87        48\n",
      "\n",
      "\n",
      "🗺️ Country: Italy (51 articles)\n",
      "              precision    recall  f1-score   support\n",
      "\n",
      "         Yes       0.89      0.67      0.76        12\n",
      "          No       0.90      0.97      0.94        39\n",
      "\n",
      "    accuracy                           0.90        51\n",
      "   macro avg       0.90      0.82      0.85        51\n",
      "weighted avg       0.90      0.90      0.90        51\n",
      "\n",
      "\n",
      "🗺️ Country: Netherlands (51 articles)\n",
      "              precision    recall  f1-score   support\n",
      "\n",
      "         Yes       0.50      0.60      0.55        10\n",
      "          No       0.90      0.85      0.88        41\n",
      "\n",
      "    accuracy                           0.80        51\n",
      "   macro avg       0.70      0.73      0.71        51\n",
      "weighted avg       0.82      0.80      0.81        51\n",
      "\n",
      "\n",
      "🗺️ Country: United_Kingdom (51 articles)\n",
      "              precision    recall  f1-score   support\n",
      "\n",
      "         Yes       0.50      0.20      0.29         5\n",
      "          No       0.92      0.98      0.95        46\n",
      "\n",
      "    accuracy                           0.90        51\n",
      "   macro avg       0.71      0.59      0.62        51\n",
      "weighted avg       0.88      0.90      0.88        51\n",
      "\n"
     ]
    }
   ],
   "source": [
    "# Step 5: Generate classification report per country\n",
    "if \"country\" in df_merged.columns:\n",
    "    print(\"\\n📍 Classification Report Per Country:\")\n",
    "    countries = df_merged[\"country\"].dropna().unique()\n",
    "\n",
    "    for country in countries:\n",
    "        country_df = df_merged[df_merged[\"country\"] == country]\n",
    "\n",
    "        y_true_c = country_df[\"corruption_label_m\"].map({\n",
    "            \"political corruption\": \"Yes\",\n",
    "            \"no political corruption\": \"No\"\n",
    "        })\n",
    "\n",
    "        y_pred_c = country_df[\"llm_label\"].map(map_prediction)\n",
    "\n",
    "        print(f\"\\n🗺️ Country: {country} ({len(country_df)} articles)\")\n",
    "        print(classification_report(y_true_c, y_pred_c, labels=[\"Yes\", \"No\"], zero_division=0))\n",
    "else:\n",
    "    print(\"⚠️ 'country' column not found in DataFrame. Skipping per-country classification report.\")\n"
   ]
  }
 ],
 "metadata": {
  "kernelspec": {
   "display_name": "Python 3 (ipykernel)",
   "language": "python",
   "name": "python3"
  },
  "language_info": {
   "codemirror_mode": {
    "name": "ipython",
    "version": 3
   },
   "file_extension": ".py",
   "mimetype": "text/x-python",
   "name": "python",
   "nbconvert_exporter": "python",
   "pygments_lexer": "ipython3",
   "version": "3.10.12"
  }
 },
 "nbformat": 4,
 "nbformat_minor": 5
}
