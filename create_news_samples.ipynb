{
 "cells": [
  {
   "cell_type": "markdown",
   "id": "adc52c66-761c-4e04-9208-c8450f25eb18",
   "metadata": {},
   "source": [
    "# Balanced Sampling of News Articles by Country\n",
    "\n",
    "This script performs the following steps to prepare a balanced news dataset:\n",
    "\n",
    "- **Load and prepare data:**  \n",
    "  Load news articles from a specified folder, filtering by selected countries (`Bulgaria`, `Italy`, `Netherlands`, `United Kingdom`) and relevant news outlets using the `load_and_prepare_data` function.\n",
    "\n",
    "- **Filter results:**  \n",
    "  Outputs the total number of articles remaining after filtering non-relevant outlets.\n",
    "\n",
    "- **Create balanced sample:**  \n",
    "  Generate a balanced sample of news articles (`total_samples = 2000`) evenly distributed across the selected countries using the `balanced_sample` function.\n",
    "\n",
    "- **Summary and preview:**  \n",
    "  Prints the size of the sample, counts of articles per country, and previews the first few rows of the sampled dataset.\n",
    "\n",
    "- **Save to CSV:**  \n",
    "  Saves the balanced sample as a CSV file for later use in analysis or modeling.\n"
   ]
  },
  {
   "cell_type": "code",
   "execution_count": 1,
   "id": "14b10315-eae7-4df3-bdbf-af80b238a6c8",
   "metadata": {},
   "outputs": [
    {
     "name": "stdout",
     "output_type": "stream",
     "text": [
      "\n",
      "📊 Article count per country BEFORE outlet filtering:\n",
      "-----------------------------------------------------\n",
      "\n",
      "🔍 Looking for: /home/akroon/webdav/ASCOR-FMG-5580-RESPOND-news-data (Projectfolder)/Bulgaria_news.csv\n",
      "✅ Found: /home/akroon/webdav/ASCOR-FMG-5580-RESPOND-news-data (Projectfolder)/Bulgaria_news.csv\n"
     ]
    },
    {
     "name": "stderr",
     "output_type": "stream",
     "text": [
      "/home/akroon/RESPOND/dataloader.py:35: DtypeWarning: Columns (1) have mixed types. Specify dtype option on import or set low_memory=False.\n",
      "  df = pd.read_csv(file_path)\n"
     ]
    },
    {
     "name": "stdout",
     "output_type": "stream",
     "text": [
      "📄 Bulgaria: 260300 articles loaded before filtering\n",
      "📰 Bulgaria: 224455 articles AFTER outlet filtering\n",
      "\n",
      "🔍 Looking for: /home/akroon/webdav/ASCOR-FMG-5580-RESPOND-news-data (Projectfolder)/Italy_news.csv\n",
      "✅ Found: /home/akroon/webdav/ASCOR-FMG-5580-RESPOND-news-data (Projectfolder)/Italy_news.csv\n"
     ]
    },
    {
     "name": "stderr",
     "output_type": "stream",
     "text": [
      "/home/akroon/RESPOND/dataloader.py:35: DtypeWarning: Columns (1) have mixed types. Specify dtype option on import or set low_memory=False.\n",
      "  df = pd.read_csv(file_path)\n"
     ]
    },
    {
     "name": "stdout",
     "output_type": "stream",
     "text": [
      "📄 Italy: 910942 articles loaded before filtering\n",
      "📰 Italy: 670971 articles AFTER outlet filtering\n",
      "\n",
      "🔍 Looking for: /home/akroon/webdav/ASCOR-FMG-5580-RESPOND-news-data (Projectfolder)/Netherlands_news.csv\n",
      "✅ Found: /home/akroon/webdav/ASCOR-FMG-5580-RESPOND-news-data (Projectfolder)/Netherlands_news.csv\n",
      "📄 Netherlands: 121188 articles loaded before filtering\n",
      "📰 Netherlands: 61566 articles AFTER outlet filtering\n",
      "\n",
      "🔍 Looking for: /home/akroon/webdav/ASCOR-FMG-5580-RESPOND-news-data (Projectfolder)/United_Kingdom_news.csv\n",
      "✅ Found: /home/akroon/webdav/ASCOR-FMG-5580-RESPOND-news-data (Projectfolder)/United_Kingdom_news.csv\n"
     ]
    },
    {
     "name": "stderr",
     "output_type": "stream",
     "text": [
      "/home/akroon/RESPOND/dataloader.py:35: DtypeWarning: Columns (1) have mixed types. Specify dtype option on import or set low_memory=False.\n",
      "  df = pd.read_csv(file_path)\n"
     ]
    },
    {
     "name": "stdout",
     "output_type": "stream",
     "text": [
      "📄 United_Kingdom: 1039569 articles loaded before filtering\n",
      "📰 United_Kingdom: 532096 articles AFTER outlet filtering\n"
     ]
    }
   ],
   "source": [
    "import os\n",
    "from dataloader import load_and_prepare_data, balanced_sample, load_human_annotated_for_translation\n",
    "from config import NEWS_FOLDER, SELECTED_COUNTRIES\n",
    "\n",
    "# Create a balanced sample, e.g. total 50 samples across countries\n",
    "data = load_and_prepare_data(\n",
    "    news_folder=\"~/webdav/ASCOR-FMG-5580-RESPOND-news-data (Projectfolder)/\", \n",
    "    countries=[\"Bulgaria\", \"Italy\", \"Netherlands\", \"United_Kingdom\"], \n",
    "    outlet_dir=\"~/webdav/ASCOR-FMG-5580-RESPOND-news-data (Projectfolder)/selected_outlets/\"\n",
    ")"
   ]
  },
  {
   "cell_type": "code",
   "execution_count": 2,
   "id": "2d385c1f-ed91-4bca-859a-46e5f9def25a",
   "metadata": {},
   "outputs": [
    {
     "name": "stdout",
     "output_type": "stream",
     "text": [
      "N of all news articles after filtering out non-relevant outlets: 1489088\n"
     ]
    }
   ],
   "source": [
    "print(f'N of all news articles after filtering out non-relevant outlets: {len(data)}')\n",
    "#data.to_csv('~/webdav/ASCOR-FMG-5580-RESPOND-news-data (Projectfolder)/output/news_filtered_Bulgaria_Italy_Netherlands_United_Kingdom_outlets.csv')"
   ]
  },
  {
   "cell_type": "code",
   "execution_count": 3,
   "id": "0c16afcb-6453-4127-bca0-89b660e24443",
   "metadata": {},
   "outputs": [
    {
     "name": "stdout",
     "output_type": "stream",
     "text": [
      "Sample created with 1995 rows\n",
      "Samples per country:\n",
      "country\n",
      "United_Kingdom    500\n",
      "Italy             499\n",
      "Netherlands       499\n",
      "Bulgaria          497\n",
      "Name: count, dtype: int64\n",
      "\n",
      "Sample preview:\n",
      "   Unnamed: 0        uri lang  isDuplicate        date      time  \\\n",
      "0       87066  787939780  bul        False  2018-01-04  08:12:00   \n",
      "1       30824  786664095  bul        False  2018-01-01  16:41:00   \n",
      "2      249635  809889599  bul        False  2018-02-09  13:30:00   \n",
      "3      249481  815894766  bul        False  2018-02-19  10:55:00   \n",
      "4       15509  835882007  bul        False  2018-03-21  18:16:00   \n",
      "\n",
      "                   dateTime dateTimePub dataType  sim  ...  \\\n",
      "0 2018-01-04 08:12:00+00:00         NaN     news  0.0  ...   \n",
      "1 2018-01-01 16:41:00+00:00         NaN     news  0.0  ...   \n",
      "2 2018-02-09 13:30:00+00:00         NaN     news  0.0  ...   \n",
      "3 2018-02-19 10:55:00+00:00         NaN     news  0.0  ...   \n",
      "4 2018-03-21 18:16:00+00:00         NaN     news  0.0  ...   \n",
      "\n",
      "                                               image eventUri sentiment wgt  \\\n",
      "0  http://www.struma.com/uploads/image/42/society...      NaN       NaN   7   \n",
      "1       http://www.segabg.com/pic/12660/887215-l.jpg      NaN       NaN  11   \n",
      "2  https://mm.netinfo.bg/branding/brand.php?water...      NaN       NaN   3   \n",
      "3                     https://i.id24.bg/i/776081.jpg      NaN       NaN   3   \n",
      "4       http://www.segabg.com/pic/12728/898474-l.jpg      NaN       NaN  15   \n",
      "\n",
      "  relevance   source.uri  source.dataType             source.title   country  \\\n",
      "0         7   struma.com             news  Вестник Струма On-linee  Bulgaria   \n",
      "1        11   segabg.com             news                     СЕГА  Bulgaria   \n",
      "2         3     vesti.bg             news                 Vesti.bg  Bulgaria   \n",
      "3         3  burgas24.bg             news              Burgas24.bg  Bulgaria   \n",
      "4        15   segabg.com             news                     СЕГА  Bulgaria   \n",
      "\n",
      "                                       combined_text  \n",
      "0  Турски банкер обвинен в заговор в полза на Ира...  \n",
      "1  България харчи сляпо за европредседателството\\...  \n",
      "2  Протестите в Иран продължават с призиви за пра...  \n",
      "3  Обучение за противодействие на трафика на деца...  \n",
      "4  Премиерът на Израел затъва в разследвания за к...  \n",
      "\n",
      "[5 rows x 24 columns]\n",
      "\n",
      "Sample saved to: ~/webdav/ASCOR-FMG-5580-RESPOND-news-data (Projectfolder)/output/news_sample_2000.csv\n"
     ]
    }
   ],
   "source": [
    "total_samples = 2000\n",
    "df_news_sample = balanced_sample(data, total_samples=total_samples, countries=SELECTED_COUNTRIES)\n",
    "\n",
    "print(f\"Sample created with {len(df_news_sample)} rows\")\n",
    "print(\"Samples per country:\")\n",
    "print(df_news_sample[\"country\"].value_counts())\n",
    "\n",
    "print(\"\\nSample preview:\")\n",
    "print(df_news_sample.head())\n",
    "\n",
    "sample_csv_path = f\"~/webdav/ASCOR-FMG-5580-RESPOND-news-data (Projectfolder)/output/news_sample_{total_samples}.csv\"\n",
    "df_news_sample.to_csv(sample_csv_path, index=False)\n",
    "print(f\"\\nSample saved to: {sample_csv_path}\")"
   ]
  }
 ],
 "metadata": {
  "kernelspec": {
   "display_name": "Python 3 (ipykernel)",
   "language": "python",
   "name": "python3"
  },
  "language_info": {
   "codemirror_mode": {
    "name": "ipython",
    "version": 3
   },
   "file_extension": ".py",
   "mimetype": "text/x-python",
   "name": "python",
   "nbconvert_exporter": "python",
   "pygments_lexer": "ipython3",
   "version": "3.10.12"
  }
 },
 "nbformat": 4,
 "nbformat_minor": 5
}
