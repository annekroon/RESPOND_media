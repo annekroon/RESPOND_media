{
 "cells": [
  {
   "cell_type": "markdown",
   "id": "49b8728d-4786-41ee-9bf2-89cc7dc0877a",
   "metadata": {},
   "source": [
    "# Counts of the Total Number of Articles (Related and Unrelated to corruption) at the Country Level"
   ]
  },
  {
   "cell_type": "code",
   "execution_count": 1,
   "id": "538fbbf8-51a4-418e-9786-9683f69a1c97",
   "metadata": {
    "tags": []
   },
   "outputs": [],
   "source": [
    "from eventregistry import *\n",
    "import json\n",
    "import pandas as pd\n",
    "\n",
    "import csv\n",
    "from datetime import datetime, timedelta, date"
   ]
  },
  {
   "cell_type": "code",
   "execution_count": 8,
   "id": "2e9c6fbd-450e-4d7e-89c2-b4480b665d53",
   "metadata": {
    "tags": []
   },
   "outputs": [],
   "source": [
    "er = EventRegistry(apiKey = \"53f1bd78-5874-4c46-866e-6e3cd1987703\", allowUseOfArchive=True)"
   ]
  },
  {
   "cell_type": "code",
   "execution_count": 5,
   "id": "65005978-ff65-409c-957b-c481ac031939",
   "metadata": {
    "tags": []
   },
   "outputs": [],
   "source": [
    "dict_countries_langs = {\n",
    "    \"Sweden\": \"swe\",\n",
    "    \"Netherlands\": \"nld\",\n",
    "    \"United Kingdom\": \"eng\",\n",
    "    \"Italy\": \"ita\",\n",
    "    \"France\": \"fra\",\n",
    "    \"Hungary\": \"hun\",\n",
    "    \"Serbia\": \"srp\",\n",
    "    \"Ukraine\": \"ukr\",\n",
    "    \"Bulgaria\": \"bul\"\n",
    "}"
   ]
  },
  {
   "cell_type": "markdown",
   "id": "ebf9264d-0f2a-4be1-b584-649b82ef17b5",
   "metadata": {},
   "source": [
    "## Total Number Articles at the country level"
   ]
  },
  {
   "cell_type": "code",
   "execution_count": 9,
   "id": "494971a1-95b1-48e0-93bc-165abb8869fe",
   "metadata": {
    "tags": []
   },
   "outputs": [
    {
     "name": "stdout",
     "output_type": "stream",
     "text": [
      "Number of results for Sweden: 6406015\n",
      "Number of results for Netherlands: 10419234\n",
      "Number of results for Italy: 35900069\n",
      "Number of results for Hungary: 11668169\n",
      "Number of results for Serbia: 6586511\n",
      "Number of results for Ukraine: 17422971\n",
      "Number of results for Bulgaria: 12645385\n"
     ]
    }
   ],
   "source": [
    "for country, language in dict_countries_langs.items():\n",
    "    country_uri = er.getLocationUri(country)\n",
    "    \n",
    "    if not (country == \"United Kingdom\" or country == \"France\"):\n",
    "    \n",
    "        qStr = {\n",
    "            \"$query\": {\n",
    "                \"$and\": [\n",
    "                    {\n",
    "                        \"dateStart\": \"2018-01-01\",\n",
    "                        \"dateEnd\": \"2024-12-31\",\n",
    "                        \"isDuplicateFilter\": \"skipDuplicates\",\n",
    "                        \"resultType\": \"sourceAggr\"\n",
    "                    },\n",
    "                    {\n",
    "                        \"$or\": [\n",
    "                            {\n",
    "                                \"lang\": language,\n",
    "                            },\n",
    "                            {\n",
    "                                \"sourceLocationUri\": country_uri\n",
    "                            }\n",
    "                        ]\n",
    "                    }\n",
    "                ]\n",
    "            }\n",
    "        }\n",
    "\n",
    "        q = QueryArticlesIter.initWithComplexQuery(json.dumps(qStr))\n",
    "        print(f\"Number of results for {country}: %d\" % q.count(er))"
   ]
  },
  {
   "cell_type": "code",
   "execution_count": 10,
   "id": "bef03ab2-e645-4f3b-87a9-694b8d2e0541",
   "metadata": {
    "tags": []
   },
   "outputs": [
    {
     "name": "stdout",
     "output_type": "stream",
     "text": [
      "Number of results for United Kingdom: 42150772\n",
      "Number of results for France: 23675374\n"
     ]
    }
   ],
   "source": [
    "for country, language in dict_countries_langs.items():\n",
    "    country_uri = er.getLocationUri(country)\n",
    "    \n",
    "    if (country == \"United Kingdom\" or country == \"France\"):\n",
    "    \n",
    "        qStr = {\n",
    "            \"$query\": {\n",
    "                \"$and\": [\n",
    "                    { \n",
    "                        \"dateStart\": \"2018-01-01\",\n",
    "                        \"dateEnd\": \"2024-12-31\",\n",
    "                        \"isDuplicateFilter\": \"skipDuplicates\",\n",
    "                        \"resultType\": \"sourceAggr\",\n",
    "                        \"lang\": language,\n",
    "                        \"sourceLocationUri\": country_uri\n",
    "                    }\n",
    "                ]\n",
    "            }\n",
    "        }\n",
    "\n",
    "        q = QueryArticlesIter.initWithComplexQuery(json.dumps(qStr))\n",
    "        print(f\"Number of results for {country}: %d\" % q.count(er))"
   ]
  }
 ],
 "metadata": {
  "kernelspec": {
   "display_name": "Python 3",
   "language": "python",
   "name": "python3"
  },
  "language_info": {
   "codemirror_mode": {
    "name": "ipython",
    "version": 3
   },
   "file_extension": ".py",
   "mimetype": "text/x-python",
   "name": "python",
   "nbconvert_exporter": "python",
   "pygments_lexer": "ipython3",
   "version": "3.10.7"
  }
 },
 "nbformat": 4,
 "nbformat_minor": 5
}
