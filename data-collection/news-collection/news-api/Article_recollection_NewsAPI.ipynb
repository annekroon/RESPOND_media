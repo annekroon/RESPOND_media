{
 "cells": [
  {
   "cell_type": "markdown",
   "id": "b6f31779-0c2b-453f-8a14-dd61e401fe12",
   "metadata": {},
   "source": [
    "# Data collection for nine countries"
   ]
  },
  {
   "cell_type": "code",
   "execution_count": 19,
   "id": "cad79d7e-7ecf-4e0c-b2b1-fe66957c3850",
   "metadata": {
    "tags": []
   },
   "outputs": [],
   "source": [
    "from eventregistry import *\n",
    "import json\n",
    "import pandas as pd\n",
    "import time"
   ]
  },
  {
   "cell_type": "code",
   "execution_count": null,
   "id": "a194676a-6dfd-490f-b165-50e1aeb9e7e0",
   "metadata": {
    "tags": []
   },
   "outputs": [],
   "source": [
    "er = EventRegistry(apiKey = \"enter API_key\", allowUseOfArchive=False)"
   ]
  },
  {
   "cell_type": "code",
   "execution_count": null,
   "id": "1b37b63e-9d16-4afe-ae22-342352170105",
   "metadata": {
    "tags": []
   },
   "outputs": [],
   "source": [
    "dict_countries_keywords = {\n",
    "    \"Sweden\": [\"korrupt\", \"korruptt beteende\", \"Mutor\", \"Förskingring\", \"Bedrägeri\", \"Nepotism\", \"Utpressning\", \"Kronism\", \"Penningtvätt\", \"Oetiskt beteende\", \"Missbruk av makt\", \"otillbörligt handlande\", \"Förseelse\", \"Förbrytelse\", \"Ohederlighet\", \"Oredlighet\", \"påverkanshandel\", \"handel med inflytande\", \"vänskapskorruption\", \"maktmissbruk\", \"svågerpolitik\", \"oegentligheter\"],\n",
    "    \n",
    "    \"Netherlands\": [\"corrupt\", \"corruptie\" , \"corrupte praktijken\" , \"omkoping\" , \"verduistering\" , \"fraude\" , \"nepotisme\" , \"afpersing\" , \"vriendjespolitiek\" , \"witwassen van geld\" , \"onethisch gedrag\" , \"machtsmisbruik\" , \"plichtsverzuim\" , \"wangedrag\" , \"smeer\" , \"oneerlijke praktijken\", \"beïnvloedingshandel\", \"handel in invloed\", \"geldverduistering\", \"belangenverstrengeling\", \"wanbeleid\"],\n",
    "    \n",
    "    \"United_Kingdom\": [\"corrupt\", \"corruption\" , \"corrupt practices\" , \"bribery\" , \"embezzlement\" , \"fraud\" , \"nepotism\" , \"extortion\" , \"cronyism\" , \"money laundering\" , \"unethical behavior\" , \"abuse of power\" , \"malfeasance\" , \"misconduct\" , \"sleaze\" , \"dishonest dealings\", \"influence peddling\", \"trafficking in influence\", \"kickbacks\", \"conflict of interest\", \"pork barrel politics\", \"collusion\"],\n",
    "    \n",
    "    \"Italy\": [\"corrotto\", \"corruzione\", \"appropriazione indebita\" , \"frode\" , \"nepotismo\" , \"estorsione\" , \"riciclaggio di denaro\" , \"comportamento non etico\" , \"abuso di potere\" , \"reato\", \"concussione\", \"collusione\", \"clientelismo\", \"malversazione\", \"commercio di influenza\", \"traffico di influenza\", \"tangenti\", \"conflitto di interessi\", \"scandalo politico\", \"malaffare\"],\n",
    "    \n",
    "    \"France\": [\"corrompu\", \"corruption\" , \"pratiques corrompues\" , \"corruption\" , \"détournement de fonds\" , \"fraude\" , \"népotisme\" , \"extorsion\" , \"blanchiment d'argent\" , \"comportement non éthique\" , \"abus de pouvoir\" , \"malversation\" , \"transactions malhonnêtes\", \"collusion\", \"favoritisme\", \"trafic d'influence\", \"pot-de-vin\", \"conflit d’intérêts\", \"scandale politique\"],\n",
    "    \n",
    "    \"Hungary\": [\"korrupció\", \"megvesztegetés\", \"sikkasztás\", \"csalás\", \"nepotizmus\", \"zsarolás\", \"kapcsolati kapitalizmus\", \"befolyással üzérkedés\", \"hatalommal való visszaélés\", \"érdekellentét\", \"politikai botrány\", \"állami visszaélések\", \"gazdasági korrupció\", \"pártfinanszírozás\", \"közbeszerzési csalás\", \"pénzmosás\", \"lobbiérdekek\", \"választási csalás\", \"monopóliumok\", \"korrupciós botrányok\", \"pénzügyi visszaélések\", \"közpénzek eltérítése\", \"átláthatóság hiánya\", \"törvénytelen vagyonosodás\", \"politikai összefonódások\", \"állami vagyon kisajátítása\", \"üzleti kartellek\", \"adócsalás\", \"büntetlenség\", \"politikusi vagyonosodás\", \"közpénzek lenyúlása\", \"pénzügyi manipuláció\", \"manipulált közbeszerzések\"],\n",
    "    \n",
    "    \"Serbia\": [\"korupcija\", \"zloupotreba moći\", \"podmićivanje\", \"pronevera\", \"iznuđivanje\", \"prevara\", \"nezakonit uticaj\", \"karteli\", \"trgovina uticajem\", \"pranje novca\", \"budžetske malverzacije\", \"nezakonite donacije\", \"klijentelizam\", \"nepotizam\", \"sukob interesa\", \"favorizovanje\", \"tajni dogovor\", \"sumnjivi tenderi\", \"lobiranje\", \"etički prekršaji\", \"stranačke donacije\", \"nezakoniti ugovori\", \"javne nabavke\", \"korupcija u sudstvu\", \"izborne manipulacije\", \"namešteni konkursi\", \"insajderske informacije\", \"zloupotreba podataka\", \"medijska korupcija\", \"privatizacione afere\", \"politička trgovina\", \"manipulacija zakonima\", \"ucenjivanje\", \"regulatorno zarobljavanje\", \"politički favoriti\"],\n",
    "    \n",
    "    \"Ukraine\": [\"корупція\", \"хабар\", \"вимагання\", \"шахрайство\", \"розкрадання\", \"відмивання коштів\", \"зловживання владою\", \"кумівство\", \"непотизм\", \"конфлікт інтересів\", \"незаконне збагачення\", \"маніпуляція бюджетом\", \"державне рейдерство\", \"торгівля посадами\", \"купівля голосів\", \"маніпуляція тендерами\", \"фіктивні контракти\", \"підкуп виборців\", \"відкати\", \"лобізм\", \"непрозорі тендери\", \"привласнення коштів\", \"службові зловживання\", \"маніпуляція виборами\", \"фінансова махінація\", \"таємні угоди\", \"змови в уряді\", \"торгівля впливом\", \"корупційні схеми\", \"розкрадання бюджету\", \"незаконне використання держкоштів\", \"маніпулювання медіа\", \"вплив олігархів\"],\n",
    "    \n",
    "    \"Bulgaria\": [\n",
    "        \"корумпирани\", \"корупция\" , \"корумпирани практики\" , \"подкуп\" , \"измама\" , \"измама\" , \"непотизъм\" , \"изнудване\" , \"кронизъм\" , \"пране на пари\" , \"неморално поведение\" , \"злоупотреба с власт\" , \"незаконно поведение\" , \"простъпление\" , \"простъплениe\" , \"нечестни сделки\", \"kлиентелизъм\", \"Присвояване\", \"Конфликт на интереси\", \"Политически скандал\",\n",
    "        \"korumpiran\", \"koruptsiya\", \"korumpirani praktiki\", \"podkup\", \"izmama\", \"izmama\", \"nepotizam\", \"iznudvane\", \"kronizam\", \"prane na pari\", \"nemoralno povedenie\", \"zlopotreba s vlast\", \"nezakonno povedenie\", \"prostaplenie\", \"prostaplenie\", \"nechestni sdelki\"] #\"корумпирани\", \"корупция\"\n",
    "}\n",
    "\n",
    "dict_countries_langs = {\n",
    "    \"Sweden\": \"swe\",\n",
    "    \"Netherlands\": \"nld\",\n",
    "    \"United_Kingdom\": \"eng\",\n",
    "    \"Italy\": \"ita\",\n",
    "    \"France\": \"fra\",\n",
    "    \"Hungary\": \"hun\",\n",
    "    \"Serbia\": \"srp\",\n",
    "    \"Ukraine\": \"ukr\",\n",
    "    \"Bulgaria\": \"bul\"\n",
    "}"
   ]
  },
  {
   "cell_type": "code",
   "execution_count": null,
   "id": "bb02e190-490f-4be9-a95f-79cfc424cb39",
   "metadata": {
    "tags": []
   },
   "outputs": [
    {
     "name": "stdout",
     "output_type": "stream",
     "text": [
      "Number of results for Ukraine: 20\n",
      "The data of Ukraine has been collected.\n"
     ]
    }
   ],
   "source": [
    "for country, language in dict_countries_langs.items():\n",
    "    country_uri = er.getLocationUri(country)\n",
    "    keywords = dict_countries_keywords.get(country, [])\n",
    "    \n",
    "    if (country == \"United_Kingdom\" or country == \"France\"):\n",
    "    \n",
    "        qStr = {\n",
    "            \"$query\": {\n",
    "                \"$and\": [\n",
    "                    {\n",
    "                        \"keyword\": { \"$or\": keywords}, \n",
    "                        \"dateStart\": \"2018-01-01\",\n",
    "                        \"dateEnd\": \"2024-12-31\",\n",
    "                        \"isDuplicateFilter\": \"skipDuplicates\",\n",
    "                        \"resultType\": \"sourceAggr\",\n",
    "                        \"lang\": language,\n",
    "                        \"sourceLocationUri\": country_uri\n",
    "                    }\n",
    "                ]\n",
    "            }\n",
    "        }\n",
    "\n",
    "    else:\n",
    "        \n",
    "        qStr = {\n",
    "            \"$query\": {\n",
    "                \"$and\": [\n",
    "                    {\n",
    "                        \"keyword\": { \"$or\": keywords}, \n",
    "                        \"dateStart\": \"2018-01-01\",\n",
    "                        \"dateEnd\": \"2024-12-31\",\n",
    "                        \"isDuplicateFilter\": \"skipDuplicates\",\n",
    "                        \"resultType\": \"sourceAggr\"\n",
    "                    },\n",
    "                    {\n",
    "                        \"$or\": [\n",
    "                            {\n",
    "                                \"lang\": language,\n",
    "                            },\n",
    "                            {\n",
    "                                \"sourceLocationUri\": country_uri\n",
    "                            }\n",
    "                        ]\n",
    "                    }\n",
    "                ]\n",
    "            }\n",
    "        }\n",
    "\n",
    "    q = QueryArticlesIter.initWithComplexQuery(json.dumps(qStr))\n",
    "    print(f\"Number of results for {country}: {q.count(er)}\")  \n",
    "    \n",
    "    results_list = []\n",
    "    for art in q.execQuery(er, sortBy=\"rel\"):\n",
    "        results_list.append(art)\n",
    "\n",
    "    results_df = pd.json_normalize(results_list)\n",
    "    results_df.to_csv(f\"{country}_news.csv\")\n",
    "    print(f\"The data of {country} has been collected.\")\n",
    "    time.sleep(60)\n"
   ]
  }
 ],
 "metadata": {
  "kernelspec": {
   "display_name": "Python 3",
   "language": "python",
   "name": "python3"
  },
  "language_info": {
   "codemirror_mode": {
    "name": "ipython",
    "version": 3
   },
   "file_extension": ".py",
   "mimetype": "text/x-python",
   "name": "python",
   "nbconvert_exporter": "python",
   "pygments_lexer": "ipython3",
   "version": "3.10.7"
  }
 },
 "nbformat": 4,
 "nbformat_minor": 5
}
