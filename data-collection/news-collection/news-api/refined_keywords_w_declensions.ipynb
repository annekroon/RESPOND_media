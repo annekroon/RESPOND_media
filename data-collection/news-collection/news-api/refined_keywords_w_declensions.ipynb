{
 "cells": [
  {
   "cell_type": "code",
   "execution_count": null,
   "metadata": {},
   "outputs": [],
   "source": [
    "dict_countries_keywords = {\n",
    "    \"Sweden\": [\"korrupt\", \"korruptt beteende\", \"Mutor\", \"Förskingring\", \"Bedrägeri\", \"Nepotism\", \"Utpressning\", \"Kronism\", \"Penningtvätt\", \"Oetiskt beteende\", \"Missbruk av makt\", \"otillbörligt handlande\", \"Förseelse\", \"Förbrytelse\", \"Ohederlighet\", \"Oredlighet\", \"påverkanshandel\", \"handel med inflytande\", \"vänskapskorruption\", \"maktmissbruk\", \"svågerpolitik\", \"oegentligheter\"],\n",
    "    \n",
    "    \"Netherlands\": [\"corrupt\", \"corruptie\" , \"corrupte praktijken\" , \"omkoping\" , \"verduistering\" , \"fraude\" , \"nepotisme\" , \"afpersing\" , \"vriendjespolitiek\" , \"witwassen van geld\" , \"onethisch gedrag\" , \"machtsmisbruik\" , \"plichtsverzuim\" , \"wangedrag\" , \"smeer\" , \"oneerlijke praktijken\", \"beïnvloedingshandel\", \"handel in invloed\", \"geldverduistering\", \"belangenverstrengeling\", \"wanbeleid\"],\n",
    "    \n",
    "    \"United_Kingdom\": [\"corrupt\", \"corruption\" , \"corrupt practices\" , \"bribery\" , \"embezzlement\" , \"fraud\" , \"nepotism\" , \"extortion\" , \"cronyism\" , \"money laundering\" , \"unethical behavior\" , \"abuse of power\" , \"malfeasance\" , \"misconduct\" , \"sleaze\" , \"dishonest dealings\", \"influence peddling\", \"trafficking in influence\", \"kickbacks\", \"conflict of interest\", \"pork barrel politics\", \"collusion\"],\n",
    "    \n",
    "    \"Italy\": [\"corrotto\", \"corruzione\", \"appropriazione indebita\" , \"frode\" , \"nepotismo\" , \"estorsione\" , \"riciclaggio di denaro\" , \"comportamento non etico\" , \"abuso di potere\" , \"reato\", \"concussione\", \"collusione\", \"clientelismo\", \"malversazione\", \"commercio di influenza\", \"traffico di influenza\", \"tangenti\", \"conflitto di interessi\", \"scandalo politico\", \"malaffare\"],\n",
    "    \n",
    "    \"France\": [\"corrompu\", \"corruption\" , \"pratiques corrompues\" , \"corruption\" , \"détournement de fonds\" , \"fraude\" , \"népotisme\" , \"extorsion\" , \"blanchiment d'argent\" , \"comportement non éthique\" , \"abus de pouvoir\" , \"malversation\" , \"transactions malhonnêtes\", \"collusion\", \"favoritisme\", \"trafic d'influence\", \"pot-de-vin\", \"conflit d’intérêts\", \"scandale politique\"],\n",
    "    \n",
    "    \"Hungary\": [\"korrupció\", \"megvesztegetés\", \"sikkasztás\", \"csalás\", \"nepotizmus\", \"zsarolás\", \"kapcsolati kapitalizmus\", \"befolyással üzérkedés\", \"hatalommal való visszaélés\", \"érdekellentét\", \"politikai botrány\", \"állami visszaélések\", \"gazdasági korrupció\", \"pártfinanszírozás\", \"közbeszerzési csalás\", \"pénzmosás\", \"lobbiérdekek\", \"választási csalás\", \"monopóliumok\", \"korrupciós botrányok\", \"pénzügyi visszaélések\", \"közpénzek eltérítése\", \"átláthatóság hiánya\", \"törvénytelen vagyonosodás\", \"politikai összefonódások\", \"állami vagyon kisajátítása\", \"üzleti kartellek\", \"adócsalás\", \"büntetlenség\", \"politikusi vagyonosodás\", \"közpénzek lenyúlása\", \"pénzügyi manipuláció\", \"manipulált közbeszerzések\"],\n",
    "    \n",
    "    \"Serbia\": [\"korupcija\", \"zloupotreba moći\", \"podmićivanje\", \"pronevera\", \"iznuđivanje\", \"prevara\", \"nezakonit uticaj\", \"karteli\", \"trgovina uticajem\", \"pranje novca\", \"budžetske malverzacije\", \"nezakonite donacije\", \"klijentelizam\", \"nepotizam\", \"sukob interesa\", \"favorizovanje\", \"tajni dogovor\", \"sumnjivi tenderi\", \"lobiranje\", \"etički prekršaji\", \"stranačke donacije\", \"nezakoniti ugovori\", \"javne nabavke\", \"korupcija u sudstvu\", \"izborne manipulacije\", \"namešteni konkursi\", \"insajderske informacije\", \"zloupotreba podataka\", \"medijska korupcija\", \"privatizacione afere\", \"politička trgovina\", \"manipulacija zakonima\", \"ucenjivanje\", \"regulatorno zarobljavanje\", \"politički favoriti\"],\n",
    "    \n",
    "    \"Ukraine\": [\"корупція\", \"хабар\", \"вимагання\", \"шахрайство\", \"розкрадання\", \"відмивання коштів\", \"зловживання владою\", \"кумівство\", \"непотизм\", \"конфлікт інтересів\", \"незаконне збагачення\", \"маніпуляція бюджетом\", \"державне рейдерство\", \"торгівля посадами\", \"купівля голосів\", \"маніпуляція тендерами\", \"фіктивні контракти\", \"підкуп виборців\", \"відкати\", \"лобізм\", \"непрозорі тендери\", \"привласнення коштів\", \"службові зловживання\", \"маніпуляція виборами\", \"фінансова махінація\", \"таємні угоди\", \"змови в уряді\", \"торгівля впливом\", \"корупційні схеми\", \"розкрадання бюджету\", \"незаконне використання держкоштів\", \"маніпулювання медіа\", \"вплив олігархів\"],\n",
    "    \n",
    "    \"Bulgaria\": [\n",
    "        \"корумпирани\", \"корупция\" , \"корумпирани практики\" , \"подкуп\" , \"измама\" , \"измама\" , \"непотизъм\" , \"изнудване\" , \"кронизъм\" , \"пране на пари\" , \"неморално поведение\" , \"злоупотреба с власт\" , \"незаконно поведение\" , \"простъпление\" , \"простъплениe\" , \"нечестни сделки\", \"kлиентелизъм\", \"Присвояване\", \"Конфликт на интереси\", \"Политически скандал\",\n",
    "        \"korumpiran\", \"koruptsiya\", \"korumpirani praktiki\", \"podkup\", \"izmama\", \"izmama\", \"nepotizam\", \"iznudvane\", \"kronizam\", \"prane na pari\", \"nemoralno povedenie\", \"zlopotreba s vlast\", \"nezakonno povedenie\", \"prostaplenie\", \"prostaplenie\", \"nechestni sdelki\"] #\"корумпирани\", \"корупция\"\n",
    "}\n"
   ]
  },
  {
   "cell_type": "code",
   "execution_count": null,
   "metadata": {},
   "outputs": [],
   "source": []
  }
 ],
 "metadata": {
  "language_info": {
   "name": "python"
  }
 },
 "nbformat": 4,
 "nbformat_minor": 2
}
