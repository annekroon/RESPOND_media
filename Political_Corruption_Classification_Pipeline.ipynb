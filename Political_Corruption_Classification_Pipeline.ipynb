{
 "cells": [
  {
   "cell_type": "markdown",
   "id": "e1a94dfa-ddb0-49a8-b360-c3f8f24484f5",
   "metadata": {},
   "source": [
    "# Political Corruption Article Translation and Classification Pipeline\n",
    "\n",
    "This notebook performs a complete pipeline for analyzing political corruption articles:\n",
    "\n",
    "1. **Load and translate** human-annotated news articles from the original language into the target language.\n",
    "2. **Save** the translated dataset   for further use.\n",
    "3. **Classify** the translated\n",
    "4.  articles using a large language model (LLM)-based classifier (`classify_article`), extracting evidence, rationale, confidence scores, and tentative labels.\n",
    "5. **Save** the classification results as both CSV and Excel files for easy sharing and review.\n",
    "6. **Evaluate** the classification performance by comparing the LLM-generated labels against the human-annotated ground truth using a classification report.\n",
    "\n",
    "This workflow streamlines the process from raw human annotations to translated, LLM-annotated, and evaluated datasets ready for analysis or reporting.\n"
   ]
  },
  {
   "cell_type": "code",
   "execution_count": null,
   "id": "e3321ce7-8862-486d-9962-32aa92bf0b69",
   "metadata": {},
   "outputs": [
    {
     "name": "stdout",
     "output_type": "stream",
     "text": [
      "🌍 Starting translation for multilingual dataset using 'combined_text'\n"
     ]
    },
    {
     "name": "stderr",
     "output_type": "stream",
     "text": [
      "🔁 Translating:   0%|          | 0/201 [00:00<?, ?it/s]"
     ]
    },
    {
     "name": "stdout",
     "output_type": "stream",
     "text": [
      "Translating chunk 1/1 (chars: 1152)\n"
     ]
    },
    {
     "name": "stderr",
     "output_type": "stream",
     "text": [
      "🔁 Translating:   1%|          | 2/201 [00:04<07:58,  2.40s/it]"
     ]
    },
    {
     "name": "stdout",
     "output_type": "stream",
     "text": [
      "Translating chunk 1/1 (chars: 837)\n"
     ]
    },
    {
     "name": "stderr",
     "output_type": "stream",
     "text": [
      "🔁 Translating:   1%|▏         | 3/201 [00:06<07:15,  2.20s/it]"
     ]
    },
    {
     "name": "stdout",
     "output_type": "stream",
     "text": [
      "Translating chunk 1/2 (chars: 1497)\n",
      "⚠️ Suspected untranslated chunk — marking empty\n",
      "❌ Failed to translate chunk 1 properly.\n",
      "Translating chunk 2/2 (chars: 209)\n"
     ]
    },
    {
     "name": "stderr",
     "output_type": "stream",
     "text": [
      "🔁 Translating:   2%|▏         | 4/201 [00:12<11:43,  3.57s/it]"
     ]
    },
    {
     "name": "stdout",
     "output_type": "stream",
     "text": [
      "Translating chunk 1/1 (chars: 1117)\n"
     ]
    },
    {
     "name": "stderr",
     "output_type": "stream",
     "text": [
      "🔁 Translating:   2%|▏         | 5/201 [00:15<10:27,  3.20s/it]"
     ]
    },
    {
     "name": "stdout",
     "output_type": "stream",
     "text": [
      "Translating chunk 1/1 (chars: 802)\n"
     ]
    },
    {
     "name": "stderr",
     "output_type": "stream",
     "text": [
      "🔁 Translating:   3%|▎         | 6/201 [00:17<09:02,  2.78s/it]"
     ]
    },
    {
     "name": "stdout",
     "output_type": "stream",
     "text": [
      "Translating chunk 1/2 (chars: 1444)\n",
      "Translating chunk 2/2 (chars: 375)\n"
     ]
    },
    {
     "name": "stderr",
     "output_type": "stream",
     "text": [
      "🔁 Translating:   3%|▎         | 7/201 [00:21<10:27,  3.24s/it]"
     ]
    },
    {
     "name": "stdout",
     "output_type": "stream",
     "text": [
      "Translating chunk 1/2 (chars: 1465)\n",
      "Translating chunk 2/2 (chars: 662)\n"
     ]
    },
    {
     "name": "stderr",
     "output_type": "stream",
     "text": [
      "🔁 Translating:   4%|▍         | 8/201 [00:26<12:20,  3.84s/it]"
     ]
    },
    {
     "name": "stdout",
     "output_type": "stream",
     "text": [
      "Translating chunk 1/2 (chars: 1224)\n",
      "⚠️ Suspected untranslated chunk — marking empty\n",
      "❌ Failed to translate chunk 1 properly.\n",
      "Translating chunk 2/2 (chars: 460)\n"
     ]
    },
    {
     "name": "stderr",
     "output_type": "stream",
     "text": [
      "🔁 Translating:   4%|▍         | 9/201 [00:31<13:41,  4.28s/it]"
     ]
    },
    {
     "name": "stdout",
     "output_type": "stream",
     "text": [
      "Translating chunk 1/2 (chars: 1360)\n",
      "Translating chunk 2/2 (chars: 1080)\n"
     ]
    },
    {
     "name": "stderr",
     "output_type": "stream",
     "text": [
      "🔁 Translating:   5%|▍         | 10/201 [00:37<15:07,  4.75s/it]"
     ]
    },
    {
     "name": "stdout",
     "output_type": "stream",
     "text": [
      "Translating chunk 1/1 (chars: 1206)\n"
     ]
    },
    {
     "name": "stderr",
     "output_type": "stream",
     "text": [
      "🔁 Translating:   5%|▌         | 11/201 [00:40<13:38,  4.31s/it]"
     ]
    },
    {
     "name": "stdout",
     "output_type": "stream",
     "text": [
      "Translating chunk 1/1 (chars: 998)\n"
     ]
    },
    {
     "name": "stderr",
     "output_type": "stream",
     "text": [
      "🔁 Translating:   6%|▌         | 12/201 [00:43<11:53,  3.77s/it]"
     ]
    },
    {
     "name": "stdout",
     "output_type": "stream",
     "text": [
      "Translating chunk 1/3 (chars: 1389)\n",
      "Translating chunk 2/3 (chars: 1202)\n",
      "Translating chunk 3/3 (chars: 612)\n"
     ]
    },
    {
     "name": "stderr",
     "output_type": "stream",
     "text": [
      "🔁 Translating:   6%|▋         | 13/201 [00:51<16:15,  5.19s/it]"
     ]
    },
    {
     "name": "stdout",
     "output_type": "stream",
     "text": [
      "Translating chunk 1/2 (chars: 1282)\n",
      "Translating chunk 2/2 (chars: 653)\n"
     ]
    },
    {
     "name": "stderr",
     "output_type": "stream",
     "text": [
      "🔁 Translating:   7%|▋         | 14/201 [00:55<15:13,  4.88s/it]"
     ]
    },
    {
     "name": "stdout",
     "output_type": "stream",
     "text": [
      "Translating chunk 1/9 (chars: 1145)\n",
      "Translating chunk 2/9 (chars: 1348)\n",
      "Translating chunk 3/9 (chars: 1422)\n",
      "Translating chunk 4/9 (chars: 1131)\n",
      "Translating chunk 5/9 (chars: 1133)\n",
      "Translating chunk 6/9 (chars: 1387)\n",
      "Translating chunk 7/9 (chars: 695)\n",
      "Translating chunk 8/9 (chars: 1137)\n",
      "Translating chunk 9/9 (chars: 655)\n"
     ]
    },
    {
     "name": "stderr",
     "output_type": "stream",
     "text": [
      "🔁 Translating:   7%|▋         | 15/201 [01:20<33:31, 10.81s/it]"
     ]
    },
    {
     "name": "stdout",
     "output_type": "stream",
     "text": [
      "Translating chunk 1/6 (chars: 1473)\n",
      "Translating chunk 2/6 (chars: 1393)\n",
      "Translating chunk 3/6 (chars: 1342)\n",
      "Translating chunk 4/6 (chars: 1498)\n",
      "Translating chunk 5/6 (chars: 1371)\n",
      "Translating chunk 6/6 (chars: 935)\n"
     ]
    },
    {
     "name": "stderr",
     "output_type": "stream",
     "text": [
      "🔁 Translating:   8%|▊         | 16/201 [01:38<39:52, 12.93s/it]"
     ]
    },
    {
     "name": "stdout",
     "output_type": "stream",
     "text": [
      "Translating chunk 1/10 (chars: 1108)\n",
      "Translating chunk 2/10 (chars: 730)\n",
      "Translating chunk 3/10 (chars: 1500)\n",
      "Translating chunk 4/10 (chars: 1273)\n",
      "Translating chunk 5/10 (chars: 1124)\n",
      "Translating chunk 6/10 (chars: 1500)\n",
      "Translating chunk 7/10 (chars: 869)\n",
      "Translating chunk 8/10 (chars: 1500)\n",
      "Translating chunk 9/10 (chars: 744)\n",
      "Translating chunk 10/10 (chars: 1354)\n"
     ]
    },
    {
     "name": "stderr",
     "output_type": "stream",
     "text": [
      "🔁 Translating:   8%|▊         | 17/201 [02:07<54:17, 17.70s/it]"
     ]
    },
    {
     "name": "stdout",
     "output_type": "stream",
     "text": [
      "Translating chunk 1/3 (chars: 1278)\n",
      "Translating chunk 2/3 (chars: 1483)\n",
      "Translating chunk 3/3 (chars: 169)\n"
     ]
    },
    {
     "name": "stderr",
     "output_type": "stream",
     "text": [
      "🔁 Translating:   9%|▉         | 18/201 [02:13<43:48, 14.36s/it]"
     ]
    },
    {
     "name": "stdout",
     "output_type": "stream",
     "text": [
      "Translating chunk 1/1 (chars: 993)\n"
     ]
    },
    {
     "name": "stderr",
     "output_type": "stream",
     "text": [
      "🔁 Translating:   9%|▉         | 19/201 [02:16<32:46, 10.81s/it]"
     ]
    },
    {
     "name": "stdout",
     "output_type": "stream",
     "text": [
      "Translating chunk 1/10 (chars: 1268)\n",
      "Translating chunk 2/10 (chars: 1179)\n",
      "Translating chunk 3/10 (chars: 1400)\n",
      "Translating chunk 4/10 (chars: 1318)\n",
      "Translating chunk 5/10 (chars: 1311)\n",
      "Translating chunk 6/10 (chars: 1454)\n",
      "Translating chunk 7/10 (chars: 1107)\n",
      "Translating chunk 8/10 (chars: 1357)\n",
      "Translating chunk 9/10 (chars: 1476)\n",
      "Translating chunk 10/10 (chars: 232)\n"
     ]
    },
    {
     "name": "stderr",
     "output_type": "stream",
     "text": [
      "🔁 Translating:  10%|▉         | 20/201 [02:45<49:20, 16.36s/it]"
     ]
    },
    {
     "name": "stdout",
     "output_type": "stream",
     "text": [
      "⚠️ Suspected untranslated chunk — marking empty\n",
      "❌ Failed to translate chunk 10 properly.\n",
      "Translating chunk 1/1 (chars: 1116)\n"
     ]
    },
    {
     "name": "stderr",
     "output_type": "stream",
     "text": [
      "🔁 Translating:  10%|█         | 21/201 [02:48<37:20, 12.45s/it]"
     ]
    },
    {
     "name": "stdout",
     "output_type": "stream",
     "text": [
      "Translating chunk 1/2 (chars: 1415)\n",
      "Translating chunk 2/2 (chars: 1185)\n"
     ]
    },
    {
     "name": "stderr",
     "output_type": "stream",
     "text": [
      "🔁 Translating:  11%|█         | 22/201 [02:56<32:56, 11.04s/it]"
     ]
    },
    {
     "name": "stdout",
     "output_type": "stream",
     "text": [
      "Translating chunk 1/2 (chars: 1402)\n",
      "⚠️ Suspected untranslated chunk — marking empty\n",
      "❌ Failed to translate chunk 1 properly.\n",
      "Translating chunk 2/2 (chars: 770)\n"
     ]
    },
    {
     "name": "stderr",
     "output_type": "stream",
     "text": [
      "🔁 Translating:  11%|█▏        | 23/201 [03:03<29:09,  9.83s/it]"
     ]
    },
    {
     "name": "stdout",
     "output_type": "stream",
     "text": [
      "Translating chunk 1/1 (chars: 1485)\n"
     ]
    },
    {
     "name": "stderr",
     "output_type": "stream",
     "text": [
      "🔁 Translating:  12%|█▏        | 24/201 [03:07<24:07,  8.18s/it]"
     ]
    },
    {
     "name": "stdout",
     "output_type": "stream",
     "text": [
      "Translating chunk 1/2 (chars: 1449)\n",
      "Translating chunk 2/2 (chars: 477)\n"
     ]
    },
    {
     "name": "stderr",
     "output_type": "stream",
     "text": [
      "🔁 Translating:  12%|█▏        | 25/201 [03:13<21:36,  7.37s/it]"
     ]
    },
    {
     "name": "stdout",
     "output_type": "stream",
     "text": [
      "Translating chunk 1/2 (chars: 1494)\n",
      "Translating chunk 2/2 (chars: 132)\n"
     ]
    },
    {
     "name": "stderr",
     "output_type": "stream",
     "text": [
      "🔁 Translating:  13%|█▎        | 26/201 [03:19<20:10,  6.92s/it]"
     ]
    },
    {
     "name": "stdout",
     "output_type": "stream",
     "text": [
      "Translating chunk 1/1 (chars: 862)\n"
     ]
    },
    {
     "name": "stderr",
     "output_type": "stream",
     "text": [
      "🔁 Translating:  13%|█▎        | 27/201 [03:21<15:57,  5.51s/it]"
     ]
    },
    {
     "name": "stdout",
     "output_type": "stream",
     "text": [
      "Translating chunk 1/1 (chars: 602)\n"
     ]
    },
    {
     "name": "stderr",
     "output_type": "stream",
     "text": [
      "🔁 Translating:  14%|█▍        | 28/201 [03:23<12:38,  4.38s/it]"
     ]
    },
    {
     "name": "stdout",
     "output_type": "stream",
     "text": [
      "Translating chunk 1/1 (chars: 1145)\n"
     ]
    },
    {
     "name": "stderr",
     "output_type": "stream",
     "text": [
      "🔁 Translating:  14%|█▍        | 29/201 [03:26<11:14,  3.92s/it]"
     ]
    },
    {
     "name": "stdout",
     "output_type": "stream",
     "text": [
      "Translating chunk 1/6 (chars: 1272)\n",
      "Translating chunk 2/6 (chars: 1249)\n",
      "Translating chunk 3/6 (chars: 1214)\n",
      "Translating chunk 4/6 (chars: 1391)\n",
      "Translating chunk 5/6 (chars: 1261)\n",
      "Translating chunk 6/6 (chars: 1353)\n"
     ]
    },
    {
     "name": "stderr",
     "output_type": "stream",
     "text": [
      "🔁 Translating:  15%|█▍        | 30/201 [03:47<26:30,  9.30s/it]"
     ]
    },
    {
     "name": "stdout",
     "output_type": "stream",
     "text": [
      "Translating chunk 1/1 (chars: 1088)\n"
     ]
    },
    {
     "name": "stderr",
     "output_type": "stream",
     "text": [
      "🔁 Translating:  15%|█▌        | 31/201 [03:50<20:46,  7.33s/it]"
     ]
    },
    {
     "name": "stdout",
     "output_type": "stream",
     "text": [
      "Translating chunk 1/4 (chars: 819)\n",
      "Translating chunk 2/4 (chars: 1500)\n",
      "Translating chunk 3/4 (chars: 1240)\n",
      "Translating chunk 4/4 (chars: 891)\n"
     ]
    },
    {
     "name": "stderr",
     "output_type": "stream",
     "text": [
      "🔁 Translating:  16%|█▌        | 32/201 [04:01<23:28,  8.34s/it]"
     ]
    },
    {
     "name": "stdout",
     "output_type": "stream",
     "text": [
      "Translating chunk 1/4 (chars: 1102)\n",
      "Translating chunk 2/4 (chars: 1214)\n",
      "Translating chunk 3/4 (chars: 1498)\n",
      "Translating chunk 4/4 (chars: 498)\n"
     ]
    },
    {
     "name": "stderr",
     "output_type": "stream",
     "text": [
      "🔁 Translating:  16%|█▋        | 33/201 [04:11<24:46,  8.85s/it]"
     ]
    },
    {
     "name": "stdout",
     "output_type": "stream",
     "text": [
      "Translating chunk 1/2 (chars: 1416)\n",
      "Translating chunk 2/2 (chars: 1427)\n"
     ]
    },
    {
     "name": "stderr",
     "output_type": "stream",
     "text": [
      "🔁 Translating:  17%|█▋        | 34/201 [04:18<23:17,  8.37s/it]"
     ]
    },
    {
     "name": "stdout",
     "output_type": "stream",
     "text": [
      "Translating chunk 1/2 (chars: 1444)\n",
      "Translating chunk 2/2 (chars: 458)\n"
     ]
    },
    {
     "name": "stderr",
     "output_type": "stream",
     "text": [
      "🔁 Translating:  17%|█▋        | 35/201 [04:23<19:57,  7.21s/it]"
     ]
    },
    {
     "name": "stdout",
     "output_type": "stream",
     "text": [
      "Translating chunk 1/1 (chars: 1022)\n"
     ]
    },
    {
     "name": "stderr",
     "output_type": "stream",
     "text": [
      "🔁 Translating:  18%|█▊        | 36/201 [04:25<16:00,  5.82s/it]"
     ]
    },
    {
     "name": "stdout",
     "output_type": "stream",
     "text": [
      "Translating chunk 1/2 (chars: 1406)\n",
      "Translating chunk 2/2 (chars: 988)\n"
     ]
    },
    {
     "name": "stderr",
     "output_type": "stream",
     "text": [
      "🔁 Translating:  18%|█▊        | 37/201 [04:31<15:55,  5.82s/it]"
     ]
    },
    {
     "name": "stdout",
     "output_type": "stream",
     "text": [
      "Translating chunk 1/3 (chars: 1268)\n",
      "Translating chunk 2/3 (chars: 1395)\n",
      "Translating chunk 3/3 (chars: 944)\n"
     ]
    },
    {
     "name": "stderr",
     "output_type": "stream",
     "text": [
      "🔁 Translating:  19%|█▉        | 38/201 [04:39<17:43,  6.52s/it]"
     ]
    },
    {
     "name": "stdout",
     "output_type": "stream",
     "text": [
      "Translating chunk 1/5 (chars: 1225)\n",
      "Translating chunk 2/5 (chars: 1474)\n",
      "Translating chunk 3/5 (chars: 1483)\n",
      "Translating chunk 4/5 (chars: 1399)\n",
      "Translating chunk 5/5 (chars: 960)\n"
     ]
    },
    {
     "name": "stderr",
     "output_type": "stream",
     "text": [
      "🔁 Translating:  19%|█▉        | 39/201 [04:55<25:18,  9.37s/it]"
     ]
    },
    {
     "name": "stdout",
     "output_type": "stream",
     "text": [
      "Translating chunk 1/2 (chars: 934)\n",
      "Translating chunk 2/2 (chars: 634)\n"
     ]
    },
    {
     "name": "stderr",
     "output_type": "stream",
     "text": [
      "🔁 Translating:  20%|█▉        | 40/201 [04:59<20:37,  7.69s/it]"
     ]
    },
    {
     "name": "stdout",
     "output_type": "stream",
     "text": [
      "Translating chunk 1/2 (chars: 1235)\n",
      "Translating chunk 2/2 (chars: 575)\n"
     ]
    },
    {
     "name": "stderr",
     "output_type": "stream",
     "text": [
      "🔁 Translating:  20%|██        | 41/201 [05:04<17:55,  6.72s/it]"
     ]
    },
    {
     "name": "stdout",
     "output_type": "stream",
     "text": [
      "Translating chunk 1/1 (chars: 740)\n"
     ]
    },
    {
     "name": "stderr",
     "output_type": "stream",
     "text": [
      "🔁 Translating:  21%|██        | 42/201 [05:05<13:53,  5.24s/it]"
     ]
    },
    {
     "name": "stdout",
     "output_type": "stream",
     "text": [
      "Translating chunk 1/1 (chars: 1175)\n"
     ]
    },
    {
     "name": "stderr",
     "output_type": "stream",
     "text": [
      "🔁 Translating:  21%|██▏       | 43/201 [05:09<12:20,  4.68s/it]"
     ]
    },
    {
     "name": "stdout",
     "output_type": "stream",
     "text": [
      "Translating chunk 1/2 (chars: 1451)\n",
      "Translating chunk 2/2 (chars: 574)\n"
     ]
    },
    {
     "name": "stderr",
     "output_type": "stream",
     "text": [
      "🔁 Translating:  22%|██▏       | 44/201 [05:14<12:48,  4.90s/it]"
     ]
    },
    {
     "name": "stdout",
     "output_type": "stream",
     "text": [
      "Translating chunk 1/2 (chars: 1126)\n",
      "Translating chunk 2/2 (chars: 943)\n"
     ]
    },
    {
     "name": "stderr",
     "output_type": "stream",
     "text": [
      "🔁 Translating:  22%|██▏       | 45/201 [05:19<12:49,  4.93s/it]"
     ]
    },
    {
     "name": "stdout",
     "output_type": "stream",
     "text": [
      "Translating chunk 1/3 (chars: 395)\n",
      "Translating chunk 2/3 (chars: 1344)\n",
      "Translating chunk 3/3 (chars: 451)\n"
     ]
    },
    {
     "name": "stderr",
     "output_type": "stream",
     "text": [
      "🔁 Translating:  23%|██▎       | 46/201 [05:25<13:07,  5.08s/it]"
     ]
    },
    {
     "name": "stdout",
     "output_type": "stream",
     "text": [
      "Translating chunk 1/9 (chars: 1001)\n",
      "Translating chunk 2/9 (chars: 1074)\n",
      "Translating chunk 3/9 (chars: 1016)\n",
      "Translating chunk 4/9 (chars: 1459)\n",
      "Translating chunk 5/9 (chars: 1117)\n",
      "Translating chunk 6/9 (chars: 1397)\n",
      "Translating chunk 7/9 (chars: 1431)\n",
      "Translating chunk 8/9 (chars: 884)\n",
      "Translating chunk 9/9 (chars: 1289)\n"
     ]
    },
    {
     "name": "stderr",
     "output_type": "stream",
     "text": [
      "🔁 Translating:  23%|██▎       | 47/201 [05:51<29:23, 11.45s/it]"
     ]
    },
    {
     "name": "stdout",
     "output_type": "stream",
     "text": [
      "Translating chunk 1/5 (chars: 1478)\n",
      "Translating chunk 2/5 (chars: 1198)\n",
      "Translating chunk 3/5 (chars: 1140)\n",
      "Translating chunk 4/5 (chars: 1167)\n",
      "Translating chunk 5/5 (chars: 1225)\n"
     ]
    },
    {
     "name": "stderr",
     "output_type": "stream",
     "text": [
      "🔁 Translating:  24%|██▍       | 48/201 [06:05<31:23, 12.31s/it]"
     ]
    },
    {
     "name": "stdout",
     "output_type": "stream",
     "text": [
      "Translating chunk 1/7 (chars: 1312)\n",
      "Translating chunk 2/7 (chars: 890)\n",
      "Translating chunk 3/7 (chars: 1437)\n",
      "Translating chunk 4/7 (chars: 1098)\n",
      "Translating chunk 5/7 (chars: 1137)\n",
      "Translating chunk 6/7 (chars: 1052)\n",
      "Translating chunk 7/7 (chars: 1274)\n"
     ]
    },
    {
     "name": "stderr",
     "output_type": "stream",
     "text": [
      "🔁 Translating:  24%|██▍       | 49/201 [06:25<36:35, 14.45s/it]"
     ]
    },
    {
     "name": "stdout",
     "output_type": "stream",
     "text": [
      "Translating chunk 1/1 (chars: 874)\n"
     ]
    },
    {
     "name": "stderr",
     "output_type": "stream",
     "text": [
      "🔁 Translating:  25%|██▍       | 50/201 [06:26<26:49, 10.66s/it]"
     ]
    },
    {
     "name": "stdout",
     "output_type": "stream",
     "text": [
      "Translating chunk 1/1 (chars: 1151)\n"
     ]
    },
    {
     "name": "stderr",
     "output_type": "stream",
     "text": [
      "🔁 Translating:  25%|██▌       | 51/201 [06:29<20:30,  8.20s/it]"
     ]
    },
    {
     "name": "stdout",
     "output_type": "stream",
     "text": [
      "Translating chunk 1/2 (chars: 912)\n",
      "Translating chunk 2/2 (chars: 858)\n"
     ]
    },
    {
     "name": "stderr",
     "output_type": "stream",
     "text": [
      "🔁 Translating:  26%|██▌       | 52/201 [06:33<17:11,  6.92s/it]"
     ]
    },
    {
     "name": "stdout",
     "output_type": "stream",
     "text": [
      "Translating chunk 1/1 (chars: 793)\n"
     ]
    },
    {
     "name": "stderr",
     "output_type": "stream",
     "text": [
      "🔁 Translating:  26%|██▋       | 53/201 [06:35<13:12,  5.35s/it]"
     ]
    },
    {
     "name": "stdout",
     "output_type": "stream",
     "text": [
      "Translating chunk 1/2 (chars: 1079)\n",
      "Translating chunk 2/2 (chars: 435)\n"
     ]
    },
    {
     "name": "stderr",
     "output_type": "stream",
     "text": [
      "🔁 Translating:  27%|██▋       | 54/201 [06:38<11:57,  4.88s/it]"
     ]
    },
    {
     "name": "stdout",
     "output_type": "stream",
     "text": [
      "Translating chunk 1/1 (chars: 595)\n"
     ]
    },
    {
     "name": "stderr",
     "output_type": "stream",
     "text": [
      "🔁 Translating:  27%|██▋       | 55/201 [06:40<09:28,  3.89s/it]"
     ]
    },
    {
     "name": "stdout",
     "output_type": "stream",
     "text": [
      "Translating chunk 1/1 (chars: 1240)\n"
     ]
    },
    {
     "name": "stderr",
     "output_type": "stream",
     "text": [
      "🔁 Translating:  28%|██▊       | 56/201 [06:42<08:27,  3.50s/it]"
     ]
    },
    {
     "name": "stdout",
     "output_type": "stream",
     "text": [
      "Translating chunk 1/1 (chars: 1399)\n"
     ]
    },
    {
     "name": "stderr",
     "output_type": "stream",
     "text": [
      "🔁 Translating:  28%|██▊       | 57/201 [06:46<08:23,  3.49s/it]"
     ]
    },
    {
     "name": "stdout",
     "output_type": "stream",
     "text": [
      "Translating chunk 1/2 (chars: 1450)\n",
      "Translating chunk 2/2 (chars: 669)\n"
     ]
    },
    {
     "name": "stderr",
     "output_type": "stream",
     "text": [
      "🔁 Translating:  29%|██▉       | 58/201 [06:51<09:24,  3.95s/it]"
     ]
    },
    {
     "name": "stdout",
     "output_type": "stream",
     "text": [
      "Translating chunk 1/2 (chars: 1294)\n",
      "Translating chunk 2/2 (chars: 464)\n"
     ]
    },
    {
     "name": "stderr",
     "output_type": "stream",
     "text": [
      "🔁 Translating:  29%|██▉       | 59/201 [06:55<09:14,  3.91s/it]"
     ]
    },
    {
     "name": "stdout",
     "output_type": "stream",
     "text": [
      "Translating chunk 1/4 (chars: 1090)\n",
      "Translating chunk 2/4 (chars: 1174)\n",
      "Translating chunk 3/4 (chars: 1157)\n",
      "Translating chunk 4/4 (chars: 437)\n"
     ]
    },
    {
     "name": "stderr",
     "output_type": "stream",
     "text": [
      "🔁 Translating:  30%|██▉       | 60/201 [07:04<12:45,  5.43s/it]"
     ]
    },
    {
     "name": "stdout",
     "output_type": "stream",
     "text": [
      "Translating chunk 1/1 (chars: 1094)\n"
     ]
    },
    {
     "name": "stderr",
     "output_type": "stream",
     "text": [
      "🔁 Translating:  30%|███       | 61/201 [07:06<10:38,  4.56s/it]"
     ]
    },
    {
     "name": "stdout",
     "output_type": "stream",
     "text": [
      "Translating chunk 1/1 (chars: 616)\n"
     ]
    },
    {
     "name": "stderr",
     "output_type": "stream",
     "text": [
      "🔁 Translating:  31%|███       | 62/201 [07:08<08:33,  3.70s/it]"
     ]
    },
    {
     "name": "stdout",
     "output_type": "stream",
     "text": [
      "Translating chunk 1/1 (chars: 1366)\n"
     ]
    },
    {
     "name": "stderr",
     "output_type": "stream",
     "text": [
      "🔁 Translating:  31%|███▏      | 63/201 [07:11<08:04,  3.51s/it]"
     ]
    },
    {
     "name": "stdout",
     "output_type": "stream",
     "text": [
      "Translating chunk 1/3 (chars: 557)\n",
      "Translating chunk 2/3 (chars: 1499)\n",
      "Translating chunk 3/3 (chars: 379)\n"
     ]
    },
    {
     "name": "stderr",
     "output_type": "stream",
     "text": [
      "🔁 Translating:  32%|███▏      | 64/201 [07:17<09:47,  4.29s/it]"
     ]
    },
    {
     "name": "stdout",
     "output_type": "stream",
     "text": [
      "Translating chunk 1/2 (chars: 1235)\n",
      "Translating chunk 2/2 (chars: 311)\n"
     ]
    },
    {
     "name": "stderr",
     "output_type": "stream",
     "text": [
      "🔁 Translating:  32%|███▏      | 65/201 [07:21<09:43,  4.29s/it]"
     ]
    },
    {
     "name": "stdout",
     "output_type": "stream",
     "text": [
      "Translating chunk 1/3 (chars: 309)\n",
      "Translating chunk 2/3 (chars: 1363)\n",
      "Translating chunk 3/3 (chars: 507)\n"
     ]
    },
    {
     "name": "stderr",
     "output_type": "stream",
     "text": [
      "🔁 Translating:  33%|███▎      | 66/201 [07:26<10:07,  4.50s/it]"
     ]
    },
    {
     "name": "stdout",
     "output_type": "stream",
     "text": [
      "Translating chunk 1/3 (chars: 1329)\n",
      "Translating chunk 2/3 (chars: 1121)\n",
      "Translating chunk 3/3 (chars: 475)\n"
     ]
    },
    {
     "name": "stderr",
     "output_type": "stream",
     "text": [
      "🔁 Translating:  33%|███▎      | 67/201 [07:33<11:40,  5.23s/it]"
     ]
    },
    {
     "name": "stdout",
     "output_type": "stream",
     "text": [
      "Translating chunk 1/2 (chars: 1193)\n",
      "Translating chunk 2/2 (chars: 885)\n"
     ]
    },
    {
     "name": "stderr",
     "output_type": "stream",
     "text": [
      "🔁 Translating:  34%|███▍      | 68/201 [07:37<10:51,  4.90s/it]"
     ]
    },
    {
     "name": "stdout",
     "output_type": "stream",
     "text": [
      "Translating chunk 1/2 (chars: 1377)\n",
      "Translating chunk 2/2 (chars: 405)\n"
     ]
    },
    {
     "name": "stderr",
     "output_type": "stream",
     "text": [
      "🔁 Translating:  34%|███▍      | 69/201 [07:42<10:34,  4.81s/it]"
     ]
    },
    {
     "name": "stdout",
     "output_type": "stream",
     "text": [
      "Translating chunk 1/4 (chars: 672)\n",
      "Translating chunk 2/4 (chars: 1500)\n",
      "Translating chunk 3/4 (chars: 285)\n",
      "Translating chunk 4/4 (chars: 1320)\n"
     ]
    },
    {
     "name": "stderr",
     "output_type": "stream",
     "text": [
      "🔁 Translating:  35%|███▍      | 70/201 [07:51<13:18,  6.09s/it]"
     ]
    },
    {
     "name": "stdout",
     "output_type": "stream",
     "text": [
      "Translating chunk 1/1 (chars: 1225)\n"
     ]
    },
    {
     "name": "stderr",
     "output_type": "stream",
     "text": [
      "🔁 Translating:  35%|███▌      | 71/201 [07:54<11:13,  5.18s/it]"
     ]
    },
    {
     "name": "stdout",
     "output_type": "stream",
     "text": [
      "Translating chunk 1/1 (chars: 1265)\n"
     ]
    },
    {
     "name": "stderr",
     "output_type": "stream",
     "text": [
      "🔁 Translating:  36%|███▌      | 72/201 [07:57<09:51,  4.58s/it]"
     ]
    },
    {
     "name": "stdout",
     "output_type": "stream",
     "text": [
      "Translating chunk 1/3 (chars: 1028)\n",
      "Translating chunk 2/3 (chars: 1283)\n",
      "Translating chunk 3/3 (chars: 476)\n"
     ]
    },
    {
     "name": "stderr",
     "output_type": "stream",
     "text": [
      "🔁 Translating:  36%|███▋      | 73/201 [08:04<10:51,  5.09s/it]"
     ]
    },
    {
     "name": "stdout",
     "output_type": "stream",
     "text": [
      "Translating chunk 1/1 (chars: 1358)\n"
     ]
    },
    {
     "name": "stderr",
     "output_type": "stream",
     "text": [
      "🔁 Translating:  37%|███▋      | 74/201 [08:07<09:29,  4.49s/it]"
     ]
    },
    {
     "name": "stdout",
     "output_type": "stream",
     "text": [
      "Translating chunk 1/1 (chars: 1270)\n"
     ]
    },
    {
     "name": "stderr",
     "output_type": "stream",
     "text": [
      "🔁 Translating:  37%|███▋      | 75/201 [08:10<08:29,  4.05s/it]"
     ]
    },
    {
     "name": "stdout",
     "output_type": "stream",
     "text": [
      "Translating chunk 1/6 (chars: 1092)\n",
      "Translating chunk 2/6 (chars: 846)\n",
      "Translating chunk 3/6 (chars: 976)\n",
      "Translating chunk 4/6 (chars: 1326)\n",
      "Translating chunk 5/6 (chars: 1037)\n",
      "Translating chunk 6/6 (chars: 724)\n"
     ]
    },
    {
     "name": "stderr",
     "output_type": "stream",
     "text": [
      "🔁 Translating:  38%|███▊      | 76/201 [08:24<14:34,  6.99s/it]"
     ]
    },
    {
     "name": "stdout",
     "output_type": "stream",
     "text": [
      "Translating chunk 1/3 (chars: 1426)\n",
      "Translating chunk 2/3 (chars: 1226)\n",
      "Translating chunk 3/3 (chars: 942)\n"
     ]
    },
    {
     "name": "stderr",
     "output_type": "stream",
     "text": [
      "🔁 Translating:  38%|███▊      | 77/201 [08:33<15:40,  7.59s/it]"
     ]
    },
    {
     "name": "stdout",
     "output_type": "stream",
     "text": [
      "Translating chunk 1/3 (chars: 187)\n",
      "Translating chunk 2/3 (chars: 1500)\n",
      "Translating chunk 3/3 (chars: 1182)\n"
     ]
    },
    {
     "name": "stderr",
     "output_type": "stream",
     "text": [
      "🔁 Translating:  39%|███▉      | 78/201 [08:39<14:54,  7.27s/it]"
     ]
    },
    {
     "name": "stdout",
     "output_type": "stream",
     "text": [
      "Translating chunk 1/1 (chars: 961)\n"
     ]
    },
    {
     "name": "stderr",
     "output_type": "stream",
     "text": [
      "🔁 Translating:  39%|███▉      | 79/201 [08:41<11:41,  5.75s/it]"
     ]
    },
    {
     "name": "stdout",
     "output_type": "stream",
     "text": [
      "Translating chunk 1/2 (chars: 1397)\n",
      "Translating chunk 2/2 (chars: 724)\n"
     ]
    },
    {
     "name": "stderr",
     "output_type": "stream",
     "text": [
      "🔁 Translating:  40%|███▉      | 80/201 [08:47<11:42,  5.81s/it]"
     ]
    },
    {
     "name": "stdout",
     "output_type": "stream",
     "text": [
      "Translating chunk 1/1 (chars: 520)\n"
     ]
    },
    {
     "name": "stderr",
     "output_type": "stream",
     "text": [
      "🔁 Translating:  40%|████      | 81/201 [08:49<08:52,  4.44s/it]"
     ]
    },
    {
     "name": "stdout",
     "output_type": "stream",
     "text": [
      "Translating chunk 1/3 (chars: 906)\n",
      "Translating chunk 2/3 (chars: 1294)\n",
      "Translating chunk 3/3 (chars: 273)\n"
     ]
    },
    {
     "name": "stderr",
     "output_type": "stream",
     "text": [
      "🔁 Translating:  41%|████      | 82/201 [08:54<09:34,  4.83s/it]"
     ]
    },
    {
     "name": "stdout",
     "output_type": "stream",
     "text": [
      "Translating chunk 1/1 (chars: 1278)\n"
     ]
    },
    {
     "name": "stderr",
     "output_type": "stream",
     "text": [
      "🔁 Translating:  41%|████▏     | 83/201 [08:57<08:25,  4.29s/it]"
     ]
    },
    {
     "name": "stdout",
     "output_type": "stream",
     "text": [
      "Translating chunk 1/2 (chars: 1416)\n",
      "Translating chunk 2/2 (chars: 1024)\n"
     ]
    },
    {
     "name": "stderr",
     "output_type": "stream",
     "text": [
      "🔁 Translating:  42%|████▏     | 84/201 [09:02<08:49,  4.53s/it]"
     ]
    },
    {
     "name": "stdout",
     "output_type": "stream",
     "text": [
      "Translating chunk 1/3 (chars: 1454)\n",
      "Translating chunk 2/3 (chars: 1455)\n",
      "Translating chunk 3/3 (chars: 986)\n"
     ]
    },
    {
     "name": "stderr",
     "output_type": "stream",
     "text": [
      "🔁 Translating:  42%|████▏     | 85/201 [09:11<11:00,  5.69s/it]"
     ]
    },
    {
     "name": "stdout",
     "output_type": "stream",
     "text": [
      "Translating chunk 1/9 (chars: 1409)\n",
      "Translating chunk 2/9 (chars: 1190)\n",
      "Translating chunk 3/9 (chars: 557)\n",
      "Translating chunk 4/9 (chars: 1188)\n",
      "Translating chunk 5/9 (chars: 482)\n",
      "Translating chunk 6/9 (chars: 1020)\n",
      "Translating chunk 7/9 (chars: 1392)\n",
      "Translating chunk 8/9 (chars: 474)\n",
      "Translating chunk 9/9 (chars: 1294)\n"
     ]
    },
    {
     "name": "stderr",
     "output_type": "stream",
     "text": [
      "🔁 Translating:  43%|████▎     | 86/201 [09:31<19:03,  9.94s/it]"
     ]
    },
    {
     "name": "stdout",
     "output_type": "stream",
     "text": [
      "Translating chunk 1/6 (chars: 1131)\n",
      "Translating chunk 2/6 (chars: 1272)\n",
      "Translating chunk 3/6 (chars: 995)\n",
      "Translating chunk 4/6 (chars: 1297)\n",
      "Translating chunk 5/6 (chars: 1500)\n",
      "Translating chunk 6/6 (chars: 346)\n"
     ]
    },
    {
     "name": "stderr",
     "output_type": "stream",
     "text": [
      "🔁 Translating:  43%|████▎     | 87/201 [09:47<22:17, 11.73s/it]"
     ]
    },
    {
     "name": "stdout",
     "output_type": "stream",
     "text": [
      "Translating chunk 1/5 (chars: 1217)\n",
      "Translating chunk 2/5 (chars: 890)\n",
      "Translating chunk 3/5 (chars: 1499)\n",
      "Translating chunk 4/5 (chars: 939)\n",
      "Translating chunk 5/5 (chars: 911)\n"
     ]
    },
    {
     "name": "stderr",
     "output_type": "stream",
     "text": [
      "🔁 Translating:  44%|████▍     | 88/201 [09:59<22:18, 11.85s/it]"
     ]
    },
    {
     "name": "stdout",
     "output_type": "stream",
     "text": [
      "Translating chunk 1/4 (chars: 799)\n",
      "Translating chunk 2/4 (chars: 1500)\n",
      "Translating chunk 3/4 (chars: 1244)\n",
      "Translating chunk 4/4 (chars: 562)\n"
     ]
    },
    {
     "name": "stderr",
     "output_type": "stream",
     "text": [
      "🔁 Translating:  44%|████▍     | 89/201 [10:08<20:32, 11.00s/it]"
     ]
    },
    {
     "name": "stdout",
     "output_type": "stream",
     "text": [
      "Translating chunk 1/2 (chars: 1314)\n",
      "Translating chunk 2/2 (chars: 1239)\n"
     ]
    },
    {
     "name": "stderr",
     "output_type": "stream",
     "text": [
      "🔁 Translating:  45%|████▍     | 90/201 [10:13<17:24,  9.41s/it]"
     ]
    },
    {
     "name": "stdout",
     "output_type": "stream",
     "text": [
      "Translating chunk 1/1 (chars: 1244)\n"
     ]
    },
    {
     "name": "stderr",
     "output_type": "stream",
     "text": [
      "🔁 Translating:  45%|████▌     | 91/201 [10:16<13:29,  7.36s/it]"
     ]
    },
    {
     "name": "stdout",
     "output_type": "stream",
     "text": [
      "Translating chunk 1/1 (chars: 1292)\n"
     ]
    },
    {
     "name": "stderr",
     "output_type": "stream",
     "text": [
      "🔁 Translating:  46%|████▌     | 92/201 [10:19<10:56,  6.02s/it]"
     ]
    },
    {
     "name": "stdout",
     "output_type": "stream",
     "text": [
      "Translating chunk 1/5 (chars: 1464)\n",
      "Translating chunk 2/5 (chars: 1492)\n"
     ]
    }
   ],
   "source": [
    "import os\n",
    "import pandas as pd\n",
    "from dataloader import load_and_prepare_data, balanced_sample, load_human_annotated_for_translation\n",
    "from translation import translate_dataframe\n",
    "from utils.classifier import classify_article\n",
    "from sklearn.metrics import classification_report\n",
    "\n",
    "# Step 1: Load and translate human-annotated data\n",
    "df_anno = load_human_annotated_for_translation()\n",
    "df_anno[\"text\"] = df_anno[\"combined_text\"]\n",
    "df_translated_anno = translate_dataframe(df_anno)\n",
    "\n",
    "# Prepare output dataframe with selected columns\n",
    "df = pd.DataFrame({\n",
    "    \"original_text\": df_anno[\"combined_text\"],\n",
    "    \"translated_text\": df_translated_anno[\"translated_text\"],\n",
    "    \"uri\": df_anno.get(\"uri\", \"\"),  # Use empty string if 'uri' missing\n",
    "    \"corruption_label_m\": df_anno[\"corruption_label_m\"]\n",
    "})\n",
    "\n",
    "# Save translated annotations CSV\n",
    "translated_csv_path = os.path.expanduser(\n",
    "    '~/webdav/ASCOR-FMG-5580-RESPOND-news-data (Projectfolder)/annotations/classified_pol_corruption_gabriele_translated.csv'\n",
    ")\n",
    "df.to_csv(translated_csv_path, index=False)\n",
    "print(f\"Translated annotations saved to: {translated_csv_path}\")\n",
    "\n",
    "# Step 2: Classify translated articles using the LLM classifier\n",
    "results = {\n",
    "    \"llm_evidence\": [],\n",
    "    \"llm_rationale\": [],\n",
    "    \"llm_confidence\": [],\n",
    "    \"llm_label\": []\n",
    "}\n",
    "\n",
    "print(f\"Processing {len(df)} articles for classification...\")\n",
    "\n",
    "for idx, row in df.iterrows():\n",
    "    print(f\"Classifying article {idx + 1}/{len(df)}\")\n",
    "    article_text = row[\"translated_text\"]\n",
    "\n",
    "    if not isinstance(article_text, str) or len(article_text.strip()) == 0:\n",
    "        print(\"⚠️ Skipping empty article.\")\n",
    "        results[\"llm_evidence\"].append(\"\")\n",
    "        results[\"llm_rationale\"].append(\"No content\")\n",
    "        results[\"llm_confidence\"].append(None)\n",
    "        results[\"llm_label\"].append(\"No\")\n",
    "        continue\n",
    "\n",
    "    output = classify_article(article_text)\n",
    "\n",
    "    evidence = \"; \".join(output.get(\"highlights\", []))\n",
    "    results[\"llm_evidence\"].append(evidence)\n",
    "    results[\"llm_rationale\"].append(output.get(\"rationale\", \"\"))\n",
    "    results[\"llm_confidence\"].append(output.get(\"confidence\", \"\"))\n",
    "    results[\"llm_label\"].append(output.get(\"tentative_label\", \"\"))\n",
    "\n",
    "# Add classification results to DataFrame\n",
    "df[\"llm_evidence\"] = results[\"llm_evidence\"]\n",
    "df[\"llm_rationale\"] = results[\"llm_rationale\"]\n",
    "df[\"llm_confidence\"] = results[\"llm_confidence\"]\n",
    "df[\"llm_label\"] = results[\"llm_label\"]\n",
    "\n",
    "# Step 3: Save final annotated DataFrame as CSV and Excel\n",
    "ANNOTATION_PATH = os.path.expanduser('~/webdav/ASCOR-FMG-5580-RESPOND-news-data (Projectfolder)/annotations/')\n",
    "OUTPUT_FILE = \"df_output_with_llm_annotations.csv\"\n",
    "os.makedirs(ANNOTATION_PATH, exist_ok=True)\n",
    "\n",
    "csv_path = os.path.join(ANNOTATION_PATH, OUTPUT_FILE)\n",
    "xlsx_path = csv_path.replace('.csv', '.xlsx')\n",
    "\n",
    "df.to_csv(csv_path, index=False)\n",
    "print(f\"CSV saved to: {csv_path}\")\n",
    "\n",
    "df.to_excel(xlsx_path, index=False)\n",
    "print(f\"Excel saved to: {xlsx_path}\")\n",
    "\n",
    "# Step 4: Evaluate classification with sklearn classification_report\n",
    "# Map ground truth to \"Yes\" or \"No\"\n",
    "y_true = df[\"corruption_label_m\"].map({\n",
    "    \"political corruption\": \"Yes\",\n",
    "    \"no political corruption\": \"No\"\n",
    "})\n",
    "\n",
    "# Map predictions, collapsing 'Unsure' and 'Mentioned but not central' into 'No'\n",
    "def map_prediction(label):\n",
    "    if not isinstance(label, str):\n",
    "        return \"No\"\n",
    "    label = label.strip().capitalize()\n",
    "    if label == \"Yes\":\n",
    "        return \"Yes\"\n",
    "    elif label in [\"No\", \"Unsure\", \"Mentioned but not central\"]:\n",
    "        return \"No\"\n",
    "    else:\n",
    "        return \"No\"\n",
    "\n",
    "y_pred = df[\"llm_label\"].map(map_prediction)\n",
    "\n",
    "print(\"\\n📊 Classification Report:\")\n",
    "print(classification_report(y_true, y_pred, labels=[\"Yes\", \"No\"], zero_division=0))\n"
   ]
  }
 ],
 "metadata": {
  "kernelspec": {
   "display_name": "Python 3 (ipykernel)",
   "language": "python",
   "name": "python3"
  },
  "language_info": {
   "codemirror_mode": {
    "name": "ipython",
    "version": 3
   },
   "file_extension": ".py",
   "mimetype": "text/x-python",
   "name": "python",
   "nbconvert_exporter": "python",
   "pygments_lexer": "ipython3",
   "version": "3.10.12"
  }
 },
 "nbformat": 4,
 "nbformat_minor": 5
}
